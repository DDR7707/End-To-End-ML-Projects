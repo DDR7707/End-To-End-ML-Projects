{
  "nbformat": 4,
  "nbformat_minor": 0,
  "metadata": {
    "colab": {
      "name": "Car sales Basic Intuation.ipynb",
      "provenance": [],
      "collapsed_sections": [],
      "toc_visible": true,
      "authorship_tag": "ABX9TyP8lBmnrufEhnN0/pJgrBEv",
      "include_colab_link": true
    },
    "kernelspec": {
      "name": "python3",
      "display_name": "Python 3"
    },
    "language_info": {
      "name": "python"
    },
    "accelerator": "GPU"
  },
  "cells": [
    {
      "cell_type": "markdown",
      "metadata": {
        "id": "view-in-github",
        "colab_type": "text"
      },
      "source": [
        "<a href=\"https://colab.research.google.com/github/DDR7707/End-To-End-ML-Projects/blob/main/Car%20Sales%20Basic%20Intuition.ipynb\" target=\"_parent\"><img src=\"https://colab.research.google.com/assets/colab-badge.svg\" alt=\"Open In Colab\"/></a>"
      ]
    },
    {
      "cell_type": "markdown",
      "metadata": {
        "id": "CsTftOVAwihQ"
      },
      "source": [
        "# Car sales price prediction model "
      ]
    },
    {
      "cell_type": "markdown",
      "metadata": {
        "id": "LYo5dMgTxqTM"
      },
      "source": [
        "### Understanding Problem Statement\n",
        "* Given 4 columns [\"Make\" , \"Colour\" , \"Odometer (KM)\" , \"Doors\"] . \n",
        "* Need to predict Price of the Car from given data . \n",
        "* Supervised Learning model , since we have features and their corresponding Labels . \n",
        "* Regression problem , since we need to predict the continuous output values."
      ]
    },
    {
      "cell_type": "markdown",
      "metadata": {
        "id": "WGkYJZvS4A8P"
      },
      "source": [
        "### Steps for creating model : \n",
        "1. Data Loading\n",
        "2. Performing EDA(Exploratory Data Analysis)\n",
        "3. Plotting Graphs / Visualization for better understanding of the data.\n",
        "4. Data Preprocessing\n",
        "5. Splitting the data to train and test sets.\n",
        "6. Feature Scaling the data\n",
        "7. Modeling\n",
        "8. Hyperparameter tuning for best model\n",
        "9. Deploying/Saving the model"
      ]
    },
    {
      "cell_type": "markdown",
      "metadata": {
        "id": "48Je8cx70gul"
      },
      "source": [
        "## Data Loading"
      ]
    },
    {
      "cell_type": "markdown",
      "metadata": {
        "id": "z35JZFe8xCQB"
      },
      "source": [
        "### Importing required basic modules"
      ]
    },
    {
      "cell_type": "code",
      "metadata": {
        "id": "VKe883OHMq8q"
      },
      "source": [
        "import pandas as pd\n",
        "import numpy as np\n",
        "import matplotlib.pyplot as plt\n",
        "import seaborn as sns \n",
        "import sklearn\n",
        "import warnings\n",
        "warnings.filterwarnings('ignore')"
      ],
      "execution_count": 1,
      "outputs": []
    },
    {
      "cell_type": "markdown",
      "metadata": {
        "id": "YM8_F6k4xIZ5"
      },
      "source": [
        "### Importing Data(in .csv format) to Pandas DataFrame"
      ]
    },
    {
      "cell_type": "code",
      "metadata": {
        "colab": {
          "base_uri": "https://localhost:8080/",
          "height": 194
        },
        "id": "d5nAW0PuRyfh",
        "outputId": "55ff1140-9406-4d32-cd74-c8bbc6ed17ea"
      },
      "source": [
        "df = pd.read_csv(\"car-sales-extended-missing-data.csv\")\n",
        "df.head()"
      ],
      "execution_count": 2,
      "outputs": [
        {
          "output_type": "execute_result",
          "data": {
            "text/html": [
              "<div>\n",
              "<style scoped>\n",
              "    .dataframe tbody tr th:only-of-type {\n",
              "        vertical-align: middle;\n",
              "    }\n",
              "\n",
              "    .dataframe tbody tr th {\n",
              "        vertical-align: top;\n",
              "    }\n",
              "\n",
              "    .dataframe thead th {\n",
              "        text-align: right;\n",
              "    }\n",
              "</style>\n",
              "<table border=\"1\" class=\"dataframe\">\n",
              "  <thead>\n",
              "    <tr style=\"text-align: right;\">\n",
              "      <th></th>\n",
              "      <th>Make</th>\n",
              "      <th>Colour</th>\n",
              "      <th>Odometer (KM)</th>\n",
              "      <th>Doors</th>\n",
              "      <th>Price</th>\n",
              "    </tr>\n",
              "  </thead>\n",
              "  <tbody>\n",
              "    <tr>\n",
              "      <th>0</th>\n",
              "      <td>Honda</td>\n",
              "      <td>White</td>\n",
              "      <td>35431.0</td>\n",
              "      <td>4.0</td>\n",
              "      <td>15323.0</td>\n",
              "    </tr>\n",
              "    <tr>\n",
              "      <th>1</th>\n",
              "      <td>BMW</td>\n",
              "      <td>Blue</td>\n",
              "      <td>192714.0</td>\n",
              "      <td>5.0</td>\n",
              "      <td>19943.0</td>\n",
              "    </tr>\n",
              "    <tr>\n",
              "      <th>2</th>\n",
              "      <td>Honda</td>\n",
              "      <td>White</td>\n",
              "      <td>84714.0</td>\n",
              "      <td>4.0</td>\n",
              "      <td>28343.0</td>\n",
              "    </tr>\n",
              "    <tr>\n",
              "      <th>3</th>\n",
              "      <td>Toyota</td>\n",
              "      <td>White</td>\n",
              "      <td>154365.0</td>\n",
              "      <td>4.0</td>\n",
              "      <td>13434.0</td>\n",
              "    </tr>\n",
              "    <tr>\n",
              "      <th>4</th>\n",
              "      <td>Nissan</td>\n",
              "      <td>Blue</td>\n",
              "      <td>181577.0</td>\n",
              "      <td>3.0</td>\n",
              "      <td>14043.0</td>\n",
              "    </tr>\n",
              "  </tbody>\n",
              "</table>\n",
              "</div>"
            ],
            "text/plain": [
              "     Make Colour  Odometer (KM)  Doors    Price\n",
              "0   Honda  White        35431.0    4.0  15323.0\n",
              "1     BMW   Blue       192714.0    5.0  19943.0\n",
              "2   Honda  White        84714.0    4.0  28343.0\n",
              "3  Toyota  White       154365.0    4.0  13434.0\n",
              "4  Nissan   Blue       181577.0    3.0  14043.0"
            ]
          },
          "metadata": {
            "tags": []
          },
          "execution_count": 2
        }
      ]
    },
    {
      "cell_type": "markdown",
      "metadata": {
        "id": "StJFj229xUqH"
      },
      "source": [
        "## Performing EDA (Exploratory Data Analysis)"
      ]
    },
    {
      "cell_type": "markdown",
      "metadata": {
        "id": "fhSWPK1byvyV"
      },
      "source": [
        "### Understanding the columns : \n",
        "1. Make : Represents the manufacturing company of the car\n",
        "2. Colour : Represents the colour of the car\n",
        "3. Odometer (KM) : Represents the odometer reading in kilometers\n",
        "4. Doors : Represents the number of doors in the car"
      ]
    },
    {
      "cell_type": "code",
      "metadata": {
        "colab": {
          "base_uri": "https://localhost:8080/"
        },
        "id": "mAJ-CsTqR4aC",
        "outputId": "dae97770-3a68-484e-b0c7-05a01641e013"
      },
      "source": [
        "df.info()"
      ],
      "execution_count": 3,
      "outputs": [
        {
          "output_type": "stream",
          "text": [
            "<class 'pandas.core.frame.DataFrame'>\n",
            "RangeIndex: 1000 entries, 0 to 999\n",
            "Data columns (total 5 columns):\n",
            " #   Column         Non-Null Count  Dtype  \n",
            "---  ------         --------------  -----  \n",
            " 0   Make           951 non-null    object \n",
            " 1   Colour         950 non-null    object \n",
            " 2   Odometer (KM)  950 non-null    float64\n",
            " 3   Doors          950 non-null    float64\n",
            " 4   Price          950 non-null    float64\n",
            "dtypes: float64(3), object(2)\n",
            "memory usage: 39.2+ KB\n"
          ],
          "name": "stdout"
        }
      ]
    },
    {
      "cell_type": "code",
      "metadata": {
        "colab": {
          "base_uri": "https://localhost:8080/",
          "height": 282
        },
        "id": "M2Ag8_0lR9x2",
        "outputId": "93ad9dc8-4d03-4c15-8795-989cba72a83a"
      },
      "source": [
        "df.describe()"
      ],
      "execution_count": 4,
      "outputs": [
        {
          "output_type": "execute_result",
          "data": {
            "text/html": [
              "<div>\n",
              "<style scoped>\n",
              "    .dataframe tbody tr th:only-of-type {\n",
              "        vertical-align: middle;\n",
              "    }\n",
              "\n",
              "    .dataframe tbody tr th {\n",
              "        vertical-align: top;\n",
              "    }\n",
              "\n",
              "    .dataframe thead th {\n",
              "        text-align: right;\n",
              "    }\n",
              "</style>\n",
              "<table border=\"1\" class=\"dataframe\">\n",
              "  <thead>\n",
              "    <tr style=\"text-align: right;\">\n",
              "      <th></th>\n",
              "      <th>Odometer (KM)</th>\n",
              "      <th>Doors</th>\n",
              "      <th>Price</th>\n",
              "    </tr>\n",
              "  </thead>\n",
              "  <tbody>\n",
              "    <tr>\n",
              "      <th>count</th>\n",
              "      <td>950.000000</td>\n",
              "      <td>950.000000</td>\n",
              "      <td>950.000000</td>\n",
              "    </tr>\n",
              "    <tr>\n",
              "      <th>mean</th>\n",
              "      <td>131253.237895</td>\n",
              "      <td>4.011579</td>\n",
              "      <td>16042.814737</td>\n",
              "    </tr>\n",
              "    <tr>\n",
              "      <th>std</th>\n",
              "      <td>69094.857187</td>\n",
              "      <td>0.382539</td>\n",
              "      <td>8581.695036</td>\n",
              "    </tr>\n",
              "    <tr>\n",
              "      <th>min</th>\n",
              "      <td>10148.000000</td>\n",
              "      <td>3.000000</td>\n",
              "      <td>2796.000000</td>\n",
              "    </tr>\n",
              "    <tr>\n",
              "      <th>25%</th>\n",
              "      <td>70391.250000</td>\n",
              "      <td>4.000000</td>\n",
              "      <td>9529.250000</td>\n",
              "    </tr>\n",
              "    <tr>\n",
              "      <th>50%</th>\n",
              "      <td>131821.000000</td>\n",
              "      <td>4.000000</td>\n",
              "      <td>14297.000000</td>\n",
              "    </tr>\n",
              "    <tr>\n",
              "      <th>75%</th>\n",
              "      <td>192668.500000</td>\n",
              "      <td>4.000000</td>\n",
              "      <td>20806.250000</td>\n",
              "    </tr>\n",
              "    <tr>\n",
              "      <th>max</th>\n",
              "      <td>249860.000000</td>\n",
              "      <td>5.000000</td>\n",
              "      <td>52458.000000</td>\n",
              "    </tr>\n",
              "  </tbody>\n",
              "</table>\n",
              "</div>"
            ],
            "text/plain": [
              "       Odometer (KM)       Doors         Price\n",
              "count     950.000000  950.000000    950.000000\n",
              "mean   131253.237895    4.011579  16042.814737\n",
              "std     69094.857187    0.382539   8581.695036\n",
              "min     10148.000000    3.000000   2796.000000\n",
              "25%     70391.250000    4.000000   9529.250000\n",
              "50%    131821.000000    4.000000  14297.000000\n",
              "75%    192668.500000    4.000000  20806.250000\n",
              "max    249860.000000    5.000000  52458.000000"
            ]
          },
          "metadata": {
            "tags": []
          },
          "execution_count": 4
        }
      ]
    },
    {
      "cell_type": "code",
      "metadata": {
        "colab": {
          "base_uri": "https://localhost:8080/",
          "height": 287
        },
        "id": "C16cY5UHgkE8",
        "outputId": "ac75e379-60e9-4bac-a127-f544da8fd305"
      },
      "source": [
        "sns.heatmap(df.corr())"
      ],
      "execution_count": 5,
      "outputs": [
        {
          "output_type": "execute_result",
          "data": {
            "text/plain": [
              "<matplotlib.axes._subplots.AxesSubplot at 0x7fa21299be90>"
            ]
          },
          "metadata": {
            "tags": []
          },
          "execution_count": 5
        },
        {
          "output_type": "display_data",
          "data": {
            "image/png": "[encoded data removed]",
            "text/plain": [
              "<Figure size 432x288 with 2 Axes>"
            ]
          },
          "metadata": {
            "tags": [],
            "needs_background": "light"
          }
        }
      ]
    },
    {
      "cell_type": "code",
      "metadata": {
        "colab": {
          "base_uri": "https://localhost:8080/"
        },
        "id": "f5OnFbARR6Sd",
        "outputId": "c9b92df1-4778-4a26-c580-f19c1aaf8ad3"
      },
      "source": [
        "df.isna().sum()"
      ],
      "execution_count": 6,
      "outputs": [
        {
          "output_type": "execute_result",
          "data": {
            "text/plain": [
              "Make             49\n",
              "Colour           50\n",
              "Odometer (KM)    50\n",
              "Doors            50\n",
              "Price            50\n",
              "dtype: int64"
            ]
          },
          "metadata": {
            "tags": []
          },
          "execution_count": 6
        }
      ]
    },
    {
      "cell_type": "markdown",
      "metadata": {
        "id": "mmOwp2D7ziOU"
      },
      "source": [
        "### Dividing into Numerical and Categorical Columns"
      ]
    },
    {
      "cell_type": "code",
      "metadata": {
        "colab": {
          "base_uri": "https://localhost:8080/"
        },
        "id": "TpAvDDXgSa-7",
        "outputId": "aafbf558-2898-422e-dfd0-ce6675932aad"
      },
      "source": [
        "cats = df.select_dtypes(include=\"object\").columns\n",
        "cats"
      ],
      "execution_count": 7,
      "outputs": [
        {
          "output_type": "execute_result",
          "data": {
            "text/plain": [
              "Index(['Make', 'Colour'], dtype='object')"
            ]
          },
          "metadata": {
            "tags": []
          },
          "execution_count": 7
        }
      ]
    },
    {
      "cell_type": "code",
      "metadata": {
        "colab": {
          "base_uri": "https://localhost:8080/"
        },
        "id": "POqpsX9tURnc",
        "outputId": "dc7478be-cda2-4a7e-a1b9-dadbde512461"
      },
      "source": [
        "ints = df.select_dtypes(exclude=\"object\").columns\n",
        "ints"
      ],
      "execution_count": 8,
      "outputs": [
        {
          "output_type": "execute_result",
          "data": {
            "text/plain": [
              "Index(['Odometer (KM)', 'Doors', 'Price'], dtype='object')"
            ]
          },
          "metadata": {
            "tags": []
          },
          "execution_count": 8
        }
      ]
    },
    {
      "cell_type": "markdown",
      "metadata": {
        "id": "OW5dYWKGzpVb"
      },
      "source": [
        "### Finding Unique and value_counts of each column in Dataframe"
      ]
    },
    {
      "cell_type": "code",
      "metadata": {
        "colab": {
          "base_uri": "https://localhost:8080/"
        },
        "id": "pVIhImRVR8mb",
        "outputId": "7f93b38f-5db0-4e0a-a400-61149e03e615"
      },
      "source": [
        "for i in cats:\n",
        "  print(f\"The number of unique values in {i} column is/are {len(df[i].unique())}\")\n",
        "  print(\"\\n\")\n",
        "  print(f\"The unique values in {i} column is/are {df[i].unique()}\")\n",
        "  print(\"\\n\")\n",
        "  print(f\"The value counts for each value in {i} column is/are :  \\n{df[i].value_counts()}\")\n",
        "  print(\"\\n\\n\")\n",
        "  print(\"*\"*100)\n",
        "  print(\"\\n\\n\")"
      ],
      "execution_count": 9,
      "outputs": [
        {
          "output_type": "stream",
          "text": [
            "The number of unique values in Make column is/are 5\n",
            "\n",
            "\n",
            "The unique values in Make column is/are ['Honda' 'BMW' 'Toyota' 'Nissan' nan]\n",
            "\n",
            "\n",
            "The value counts for each value in Make column is/are :  \n",
            "Toyota    379\n",
            "Honda     292\n",
            "Nissan    183\n",
            "BMW        97\n",
            "Name: Make, dtype: int64\n",
            "\n",
            "\n",
            "\n",
            "****************************************************************************************************\n",
            "\n",
            "\n",
            "\n",
            "The number of unique values in Colour column is/are 6\n",
            "\n",
            "\n",
            "The unique values in Colour column is/are ['White' 'Blue' 'Red' 'Green' nan 'Black']\n",
            "\n",
            "\n",
            "The value counts for each value in Colour column is/are :  \n",
            "White    390\n",
            "Blue     302\n",
            "Black     95\n",
            "Red       88\n",
            "Green     75\n",
            "Name: Colour, dtype: int64\n",
            "\n",
            "\n",
            "\n",
            "****************************************************************************************************\n",
            "\n",
            "\n",
            "\n"
          ],
          "name": "stdout"
        }
      ]
    },
    {
      "cell_type": "markdown",
      "metadata": {
        "id": "n8JoOipNzyMH"
      },
      "source": [
        "### Grouping by the columns to find the insights "
      ]
    },
    {
      "cell_type": "code",
      "metadata": {
        "colab": {
          "base_uri": "https://localhost:8080/"
        },
        "id": "QoJD54iKUd55",
        "outputId": "b74d8c20-cdae-49c4-f902-05bb9b7ef12d"
      },
      "source": [
        "for i in df.columns:\n",
        "  print(f\"Group by {i} column in the dataframe is : \\n{df.groupby([i]).mean()}\")\n",
        "  print(\"\\n\")\n",
        "  print(\"*\"*100)\n",
        "  print(\"\\n\")"
      ],
      "execution_count": 10,
      "outputs": [
        {
          "output_type": "stream",
          "text": [
            "Group by Make column in the dataframe is : \n",
            "        Odometer (KM)     Doors         Price\n",
            "Make                                         \n",
            "BMW     127491.439560  4.548387  26902.440860\n",
            "Honda   125233.374101  4.000000  14618.661922\n",
            "Nissan  136809.029070  3.782857  13664.502857\n",
            "Toyota  135942.582873  4.000000  15715.257062\n",
            "\n",
            "\n",
            "****************************************************************************************************\n",
            "\n",
            "\n",
            "Group by Colour column in the dataframe is : \n",
            "        Odometer (KM)     Doors         Price\n",
            "Colour                                       \n",
            "Black   132735.744681  4.022472  16348.044944\n",
            "Blue    135673.448276  3.972028  16216.099315\n",
            "Green   139443.492958  4.013889  14462.847222\n",
            "Red     132375.304878  4.098765  15261.666667\n",
            "White   126049.368852  4.015957  16387.227027\n",
            "\n",
            "\n",
            "****************************************************************************************************\n",
            "\n",
            "\n",
            "Group by Odometer (KM) column in the dataframe is : \n",
            "               Doors    Price\n",
            "Odometer (KM)                \n",
            "10148.0          4.0  27337.0\n",
            "10217.0          4.0  22883.0\n",
            "10247.0          4.0  32566.0\n",
            "10953.0          4.0  16636.0\n",
            "10954.0          4.0  30439.0\n",
            "...              ...      ...\n",
            "248634.0         NaN   9919.0\n",
            "248736.0         4.0   8358.0\n",
            "248815.0         4.0   9785.0\n",
            "248899.0         4.0   5834.0\n",
            "249860.0         4.0  14524.0\n",
            "\n",
            "[948 rows x 2 columns]\n",
            "\n",
            "\n",
            "****************************************************************************************************\n",
            "\n",
            "\n",
            "Group by Doors column in the dataframe is : \n",
            "       Odometer (KM)         Price\n",
            "Doors                             \n",
            "3.0    133341.866667  16770.640625\n",
            "4.0    130460.046753  15101.389323\n",
            "5.0    123766.661972  26947.056338\n",
            "\n",
            "\n",
            "****************************************************************************************************\n",
            "\n",
            "\n",
            "Group by Price column in the dataframe is : \n",
            "         Odometer (KM)  Doors\n",
            "Price                        \n",
            "2796.0        233501.0    4.0\n",
            "3125.0        243177.0    4.0\n",
            "3247.0        240536.0    4.0\n",
            "3300.0             NaN    4.0\n",
            "3509.0        203447.0    4.0\n",
            "...                ...    ...\n",
            "48239.0        23996.0    5.0\n",
            "48419.0        85739.0    5.0\n",
            "48686.0        79937.0    5.0\n",
            "50868.0        57905.0    3.0\n",
            "52458.0        16274.0    5.0\n",
            "\n",
            "[934 rows x 2 columns]\n",
            "\n",
            "\n",
            "****************************************************************************************************\n",
            "\n",
            "\n"
          ],
          "name": "stdout"
        }
      ]
    },
    {
      "cell_type": "markdown",
      "metadata": {
        "id": "kKEMD2E8z5b4"
      },
      "source": [
        "## Plotting Graphs / Visualization for better understanding of the data."
      ]
    },
    {
      "cell_type": "code",
      "metadata": {
        "colab": {
          "base_uri": "https://localhost:8080/",
          "height": 279
        },
        "id": "qlgNJnURa6JK",
        "outputId": "2d6bd1a3-4f30-40b6-de8b-a805eb873d8e"
      },
      "source": [
        "sns.countplot(df[\"Make\"] , color = \"red\");"
      ],
      "execution_count": 11,
      "outputs": [
        {
          "output_type": "display_data",
          "data": {
            "image/png": "[encoded data removed]",
            "text/plain": [
              "<Figure size 432x288 with 1 Axes>"
            ]
          },
          "metadata": {
            "tags": [],
            "needs_background": "light"
          }
        }
      ]
    },
    {
      "cell_type": "code",
      "metadata": {
        "colab": {
          "base_uri": "https://localhost:8080/",
          "height": 279
        },
        "id": "5QFGMnUKZMib",
        "outputId": "75952dcb-19d9-4871-f1bf-4a126e7ae086"
      },
      "source": [
        "sns.countplot(df['Colour'], color='blue');"
      ],
      "execution_count": 12,
      "outputs": [
        {
          "output_type": "display_data",
          "data": {
            "image/png": "[encoded data removed]",
            "text/plain": [
              "<Figure size 432x288 with 1 Axes>"
            ]
          },
          "metadata": {
            "tags": [],
            "needs_background": "light"
          }
        }
      ]
    },
    {
      "cell_type": "code",
      "metadata": {
        "colab": {
          "base_uri": "https://localhost:8080/",
          "height": 279
        },
        "id": "DjdQUrtwbMI7",
        "outputId": "3d2a8d1d-e69d-41d2-863e-4542f7da9b13"
      },
      "source": [
        "sns.countplot(df[\"Doors\"] , color = \"green\");"
      ],
      "execution_count": 13,
      "outputs": [
        {
          "output_type": "display_data",
          "data": {
            "image/png": "[encoded data removed]",
            "text/plain": [
              "<Figure size 432x288 with 1 Axes>"
            ]
          },
          "metadata": {
            "tags": [],
            "needs_background": "light"
          }
        }
      ]
    },
    {
      "cell_type": "code",
      "metadata": {
        "colab": {
          "base_uri": "https://localhost:8080/",
          "height": 265
        },
        "id": "gvmCN2XEcz1Y",
        "outputId": "8d4cb2ae-fbd8-43d3-f063-9d7431e2927a"
      },
      "source": [
        "plt.hist(df[\"Odometer (KM)\"] , bins=10);"
      ],
      "execution_count": 14,
      "outputs": [
        {
          "output_type": "display_data",
          "data": {
            "image/png": "[encoded data removed]",
            "text/plain": [
              "<Figure size 432x288 with 1 Axes>"
            ]
          },
          "metadata": {
            "tags": [],
            "needs_background": "light"
          }
        }
      ]
    },
    {
      "cell_type": "code",
      "metadata": {
        "colab": {
          "base_uri": "https://localhost:8080/",
          "height": 303
        },
        "id": "-IJfyKOudZ5p",
        "outputId": "e1169491-69d3-4503-c48c-95d063d7e913"
      },
      "source": [
        "df[\"Price\"].groupby(df[\"Make\"]).mean().plot(x = \"Make\" , y = \"Price\" , kind = \"bar\");"
      ],
      "execution_count": 15,
      "outputs": [
        {
          "output_type": "display_data",
          "data": {
            "image/png": "[encoded data removed]",
            "text/plain": [
              "<Figure size 432x288 with 1 Axes>"
            ]
          },
          "metadata": {
            "tags": [],
            "needs_background": "light"
          }
        }
      ]
    },
    {
      "cell_type": "code",
      "metadata": {
        "colab": {
          "base_uri": "https://localhost:8080/",
          "height": 300
        },
        "id": "3w8wIanBeGwt",
        "outputId": "e7a74719-53a5-4836-e2ff-6f6b2a726777"
      },
      "source": [
        "df[\"Price\"].groupby(df[\"Colour\"]).mean().plot(x = \"Make\" , y = \"Price\" , kind = \"bar\");"
      ],
      "execution_count": 16,
      "outputs": [
        {
          "output_type": "display_data",
          "data": {
            "image/png": "[encoded data removed]",
            "text/plain": [
              "<Figure size 432x288 with 1 Axes>"
            ]
          },
          "metadata": {
            "tags": [],
            "needs_background": "light"
          }
        }
      ]
    },
    {
      "cell_type": "code",
      "metadata": {
        "colab": {
          "base_uri": "https://localhost:8080/",
          "height": 285
        },
        "id": "7KsiyXc7etG-",
        "outputId": "45e37223-c1d9-4028-c035-c9c02e543296"
      },
      "source": [
        "df[\"Price\"].groupby(df[\"Doors\"]).mean().plot(x = \"Make\" , y = \"Price\" , kind = \"bar\");"
      ],
      "execution_count": 17,
      "outputs": [
        {
          "output_type": "display_data",
          "data": {
            "image/png": "[encoded data removed]",
            "text/plain": [
              "<Figure size 432x288 with 1 Axes>"
            ]
          },
          "metadata": {
            "tags": [],
            "needs_background": "light"
          }
        }
      ]
    },
    {
      "cell_type": "markdown",
      "metadata": {
        "id": "TGKehk-A0LX8"
      },
      "source": [
        "## Data Preprocessing"
      ]
    },
    {
      "cell_type": "markdown",
      "metadata": {
        "id": "1gDoK_Wp0s6l"
      },
      "source": [
        "### Finding missing values in Dataframe"
      ]
    },
    {
      "cell_type": "code",
      "metadata": {
        "colab": {
          "base_uri": "https://localhost:8080/"
        },
        "id": "wQxiirznewHk",
        "outputId": "781d0df7-cfa2-4681-86a3-ad9f5f5060e2"
      },
      "source": [
        "df.isna().sum()"
      ],
      "execution_count": 18,
      "outputs": [
        {
          "output_type": "execute_result",
          "data": {
            "text/plain": [
              "Make             49\n",
              "Colour           50\n",
              "Odometer (KM)    50\n",
              "Doors            50\n",
              "Price            50\n",
              "dtype: int64"
            ]
          },
          "metadata": {
            "tags": []
          },
          "execution_count": 18
        }
      ]
    },
    {
      "cell_type": "markdown",
      "metadata": {
        "id": "0Gnw-f5b0x4p"
      },
      "source": [
        "### Filling Categorical missing values with `Mode` of the data."
      ]
    },
    {
      "cell_type": "code",
      "metadata": {
        "colab": {
          "base_uri": "https://localhost:8080/"
        },
        "id": "yX9EnGALfCDR",
        "outputId": "740d2922-77a1-476d-bce2-71e27b0dcf9c"
      },
      "source": [
        "df[\"Make\"].mode()"
      ],
      "execution_count": 19,
      "outputs": [
        {
          "output_type": "execute_result",
          "data": {
            "text/plain": [
              "0    Toyota\n",
              "dtype: object"
            ]
          },
          "metadata": {
            "tags": []
          },
          "execution_count": 19
        }
      ]
    },
    {
      "cell_type": "code",
      "metadata": {
        "colab": {
          "base_uri": "https://localhost:8080/"
        },
        "id": "0QlzjyYhe2P7",
        "outputId": "4dd381d9-cb47-4513-8d61-f066cf39b4c1"
      },
      "source": [
        "df[\"Make\"].fillna(df[\"Make\"].mode()[0] , inplace = True)\n",
        "df[\"Make\"].isna().sum()"
      ],
      "execution_count": 20,
      "outputs": [
        {
          "output_type": "execute_result",
          "data": {
            "text/plain": [
              "0"
            ]
          },
          "metadata": {
            "tags": []
          },
          "execution_count": 20
        }
      ]
    },
    {
      "cell_type": "code",
      "metadata": {
        "colab": {
          "base_uri": "https://localhost:8080/"
        },
        "id": "zxMbVtkRfHZj",
        "outputId": "7afb7147-9230-4775-8311-c3f4cbfbc76d"
      },
      "source": [
        "df[\"Colour\"].fillna(df[\"Colour\"].mode()[0] , inplace = True)\n",
        "df[\"Colour\"].isna().sum()"
      ],
      "execution_count": 21,
      "outputs": [
        {
          "output_type": "execute_result",
          "data": {
            "text/plain": [
              "0"
            ]
          },
          "metadata": {
            "tags": []
          },
          "execution_count": 21
        }
      ]
    },
    {
      "cell_type": "code",
      "metadata": {
        "colab": {
          "base_uri": "https://localhost:8080/"
        },
        "id": "Mh1GBSOKfPIU",
        "outputId": "42ba1feb-02f7-4ed7-b5dc-fc422ecbc606"
      },
      "source": [
        "df[\"Doors\"].fillna(df[\"Doors\"].mode()[0] , inplace = True)\n",
        "df[\"Doors\"].isna().sum()"
      ],
      "execution_count": 22,
      "outputs": [
        {
          "output_type": "execute_result",
          "data": {
            "text/plain": [
              "0"
            ]
          },
          "metadata": {
            "tags": []
          },
          "execution_count": 22
        }
      ]
    },
    {
      "cell_type": "markdown",
      "metadata": {
        "id": "_iAdKjHF080n"
      },
      "source": [
        "### Filling Numerical columns with the `Median` of the data."
      ]
    },
    {
      "cell_type": "code",
      "metadata": {
        "id": "HbIkp9wegB_Z"
      },
      "source": [
        "df[\"Odometer (KM)\"].fillna(df[\"Odometer (KM)\"].median() , inplace = True)"
      ],
      "execution_count": 23,
      "outputs": []
    },
    {
      "cell_type": "markdown",
      "metadata": {
        "id": "rBTsRmSR1EpP"
      },
      "source": [
        "### Checking for any missing values after imputation"
      ]
    },
    {
      "cell_type": "code",
      "metadata": {
        "colab": {
          "base_uri": "https://localhost:8080/"
        },
        "id": "bKdc7MgcfUuN",
        "outputId": "12285381-0e60-4bd5-8dfa-00eae7ca86f6"
      },
      "source": [
        "df.isna().sum()"
      ],
      "execution_count": 24,
      "outputs": [
        {
          "output_type": "execute_result",
          "data": {
            "text/plain": [
              "Make              0\n",
              "Colour            0\n",
              "Odometer (KM)     0\n",
              "Doors             0\n",
              "Price            50\n",
              "dtype: int64"
            ]
          },
          "metadata": {
            "tags": []
          },
          "execution_count": 24
        }
      ]
    },
    {
      "cell_type": "markdown",
      "metadata": {
        "id": "q3B8Qqpf1Sj6"
      },
      "source": [
        "### Dropping the rows with missing values in Labels , as filling labels will effect the model performance."
      ]
    },
    {
      "cell_type": "code",
      "metadata": {
        "id": "BElyfVvXfWWd"
      },
      "source": [
        "df.dropna(subset=[\"Price\"] , axis = 0 , inplace = True)"
      ],
      "execution_count": 25,
      "outputs": []
    },
    {
      "cell_type": "code",
      "metadata": {
        "colab": {
          "base_uri": "https://localhost:8080/"
        },
        "id": "iN-Jj6tRfggm",
        "outputId": "98246435-7915-4778-ee5d-1ad2f7a6f939"
      },
      "source": [
        "len(df)"
      ],
      "execution_count": 26,
      "outputs": [
        {
          "output_type": "execute_result",
          "data": {
            "text/plain": [
              "950"
            ]
          },
          "metadata": {
            "tags": []
          },
          "execution_count": 26
        }
      ]
    },
    {
      "cell_type": "markdown",
      "metadata": {
        "id": "tHkEwfgJ1g8A"
      },
      "source": [
        "### Onehot encodiing / Creating Dummies for the categorical data."
      ]
    },
    {
      "cell_type": "code",
      "metadata": {
        "id": "mOKpsA8JiN9-"
      },
      "source": [
        "df = pd.get_dummies(df , columns = [\"Make\" , \"Colour\" , \"Doors\"] , prefix = [\"Make\" , \"Colour\" , \"Doors\"])"
      ],
      "execution_count": 27,
      "outputs": []
    },
    {
      "cell_type": "code",
      "metadata": {
        "colab": {
          "base_uri": "https://localhost:8080/",
          "height": 353
        },
        "id": "SJqWqEpyiTZJ",
        "outputId": "921e8257-a017-4c36-c309-e42b2546f719"
      },
      "source": [
        "sns.heatmap(df.corr())"
      ],
      "execution_count": 28,
      "outputs": [
        {
          "output_type": "execute_result",
          "data": {
            "text/plain": [
              "<matplotlib.axes._subplots.AxesSubplot at 0x7fa209f53a90>"
            ]
          },
          "metadata": {
            "tags": []
          },
          "execution_count": 28
        },
        {
          "output_type": "display_data",
          "data": {
            "image/png": "[encoded data removed]",
            "text/plain": [
              "<Figure size 432x288 with 2 Axes>"
            ]
          },
          "metadata": {
            "tags": [],
            "needs_background": "light"
          }
        }
      ]
    },
    {
      "cell_type": "markdown",
      "metadata": {
        "id": "aaaIMtbxsxg4"
      },
      "source": [
        "### Droping each of one class to eliminate multicorrelation."
      ]
    },
    {
      "cell_type": "code",
      "metadata": {
        "id": "AOWMOCDpaGkq"
      },
      "source": [
        "df.drop([\"Make_Nissan\" , \"Colour_Green\" , \"Doors_3.0\"] , axis = 1 , inplace = True)"
      ],
      "execution_count": 29,
      "outputs": []
    },
    {
      "cell_type": "code",
      "metadata": {
        "colab": {
          "base_uri": "https://localhost:8080/",
          "height": 353
        },
        "id": "UVR8l9EDiLAU",
        "outputId": "1f23dc9d-22a2-48c2-f7b8-c94cbc1f7816"
      },
      "source": [
        "sns.heatmap(df.corr())"
      ],
      "execution_count": 30,
      "outputs": [
        {
          "output_type": "execute_result",
          "data": {
            "text/plain": [
              "<matplotlib.axes._subplots.AxesSubplot at 0x7fa208ec10d0>"
            ]
          },
          "metadata": {
            "tags": []
          },
          "execution_count": 30
        },
        {
          "output_type": "display_data",
          "data": {
            "image/png": "[encoded data removed]",
            "text/plain": [
              "<Figure size 432x288 with 2 Axes>"
            ]
          },
          "metadata": {
            "tags": [],
            "needs_background": "light"
          }
        }
      ]
    },
    {
      "cell_type": "markdown",
      "metadata": {
        "id": "g34Fb_GL1pWb"
      },
      "source": [
        "### Final data analysis before splitting into train and test sets"
      ]
    },
    {
      "cell_type": "code",
      "metadata": {
        "colab": {
          "base_uri": "https://localhost:8080/",
          "height": 194
        },
        "id": "m0klNxoVieXl",
        "outputId": "24ff302f-c1a3-40f1-9bf3-b26dd89a49dc"
      },
      "source": [
        "df.head()"
      ],
      "execution_count": 31,
      "outputs": [
        {
          "output_type": "execute_result",
          "data": {
            "text/html": [
              "<div>\n",
              "<style scoped>\n",
              "    .dataframe tbody tr th:only-of-type {\n",
              "        vertical-align: middle;\n",
              "    }\n",
              "\n",
              "    .dataframe tbody tr th {\n",
              "        vertical-align: top;\n",
              "    }\n",
              "\n",
              "    .dataframe thead th {\n",
              "        text-align: right;\n",
              "    }\n",
              "</style>\n",
              "<table border=\"1\" class=\"dataframe\">\n",
              "  <thead>\n",
              "    <tr style=\"text-align: right;\">\n",
              "      <th></th>\n",
              "      <th>Odometer (KM)</th>\n",
              "      <th>Price</th>\n",
              "      <th>Make_BMW</th>\n",
              "      <th>Make_Honda</th>\n",
              "      <th>Make_Toyota</th>\n",
              "      <th>Colour_Black</th>\n",
              "      <th>Colour_Blue</th>\n",
              "      <th>Colour_Red</th>\n",
              "      <th>Colour_White</th>\n",
              "      <th>Doors_4.0</th>\n",
              "      <th>Doors_5.0</th>\n",
              "    </tr>\n",
              "  </thead>\n",
              "  <tbody>\n",
              "    <tr>\n",
              "      <th>0</th>\n",
              "      <td>35431.0</td>\n",
              "      <td>15323.0</td>\n",
              "      <td>0</td>\n",
              "      <td>1</td>\n",
              "      <td>0</td>\n",
              "      <td>0</td>\n",
              "      <td>0</td>\n",
              "      <td>0</td>\n",
              "      <td>1</td>\n",
              "      <td>1</td>\n",
              "      <td>0</td>\n",
              "    </tr>\n",
              "    <tr>\n",
              "      <th>1</th>\n",
              "      <td>192714.0</td>\n",
              "      <td>19943.0</td>\n",
              "      <td>1</td>\n",
              "      <td>0</td>\n",
              "      <td>0</td>\n",
              "      <td>0</td>\n",
              "      <td>1</td>\n",
              "      <td>0</td>\n",
              "      <td>0</td>\n",
              "      <td>0</td>\n",
              "      <td>1</td>\n",
              "    </tr>\n",
              "    <tr>\n",
              "      <th>2</th>\n",
              "      <td>84714.0</td>\n",
              "      <td>28343.0</td>\n",
              "      <td>0</td>\n",
              "      <td>1</td>\n",
              "      <td>0</td>\n",
              "      <td>0</td>\n",
              "      <td>0</td>\n",
              "      <td>0</td>\n",
              "      <td>1</td>\n",
              "      <td>1</td>\n",
              "      <td>0</td>\n",
              "    </tr>\n",
              "    <tr>\n",
              "      <th>3</th>\n",
              "      <td>154365.0</td>\n",
              "      <td>13434.0</td>\n",
              "      <td>0</td>\n",
              "      <td>0</td>\n",
              "      <td>1</td>\n",
              "      <td>0</td>\n",
              "      <td>0</td>\n",
              "      <td>0</td>\n",
              "      <td>1</td>\n",
              "      <td>1</td>\n",
              "      <td>0</td>\n",
              "    </tr>\n",
              "    <tr>\n",
              "      <th>4</th>\n",
              "      <td>181577.0</td>\n",
              "      <td>14043.0</td>\n",
              "      <td>0</td>\n",
              "      <td>0</td>\n",
              "      <td>0</td>\n",
              "      <td>0</td>\n",
              "      <td>1</td>\n",
              "      <td>0</td>\n",
              "      <td>0</td>\n",
              "      <td>0</td>\n",
              "      <td>0</td>\n",
              "    </tr>\n",
              "  </tbody>\n",
              "</table>\n",
              "</div>"
            ],
            "text/plain": [
              "   Odometer (KM)    Price  Make_BMW  ...  Colour_White  Doors_4.0  Doors_5.0\n",
              "0        35431.0  15323.0         0  ...             1          1          0\n",
              "1       192714.0  19943.0         1  ...             0          0          1\n",
              "2        84714.0  28343.0         0  ...             1          1          0\n",
              "3       154365.0  13434.0         0  ...             1          1          0\n",
              "4       181577.0  14043.0         0  ...             0          0          0\n",
              "\n",
              "[5 rows x 11 columns]"
            ]
          },
          "metadata": {
            "tags": []
          },
          "execution_count": 31
        }
      ]
    },
    {
      "cell_type": "code",
      "metadata": {
        "colab": {
          "base_uri": "https://localhost:8080/"
        },
        "id": "kdCozxAZigRp",
        "outputId": "d4375866-7187-491d-c3e4-fdedd7725beb"
      },
      "source": [
        "df.info()"
      ],
      "execution_count": 32,
      "outputs": [
        {
          "output_type": "stream",
          "text": [
            "<class 'pandas.core.frame.DataFrame'>\n",
            "Int64Index: 950 entries, 0 to 999\n",
            "Data columns (total 11 columns):\n",
            " #   Column         Non-Null Count  Dtype  \n",
            "---  ------         --------------  -----  \n",
            " 0   Odometer (KM)  950 non-null    float64\n",
            " 1   Price          950 non-null    float64\n",
            " 2   Make_BMW       950 non-null    uint8  \n",
            " 3   Make_Honda     950 non-null    uint8  \n",
            " 4   Make_Toyota    950 non-null    uint8  \n",
            " 5   Colour_Black   950 non-null    uint8  \n",
            " 6   Colour_Blue    950 non-null    uint8  \n",
            " 7   Colour_Red     950 non-null    uint8  \n",
            " 8   Colour_White   950 non-null    uint8  \n",
            " 9   Doors_4.0      950 non-null    uint8  \n",
            " 10  Doors_5.0      950 non-null    uint8  \n",
            "dtypes: float64(2), uint8(9)\n",
            "memory usage: 30.6 KB\n"
          ],
          "name": "stdout"
        }
      ]
    },
    {
      "cell_type": "code",
      "metadata": {
        "colab": {
          "base_uri": "https://localhost:8080/"
        },
        "id": "AL0TSMqZgJN7",
        "outputId": "5e48f366-b8a7-4336-8c5d-3f6914c35977"
      },
      "source": [
        "df.isna().sum()"
      ],
      "execution_count": 33,
      "outputs": [
        {
          "output_type": "execute_result",
          "data": {
            "text/plain": [
              "Odometer (KM)    0\n",
              "Price            0\n",
              "Make_BMW         0\n",
              "Make_Honda       0\n",
              "Make_Toyota      0\n",
              "Colour_Black     0\n",
              "Colour_Blue      0\n",
              "Colour_Red       0\n",
              "Colour_White     0\n",
              "Doors_4.0        0\n",
              "Doors_5.0        0\n",
              "dtype: int64"
            ]
          },
          "metadata": {
            "tags": []
          },
          "execution_count": 33
        }
      ]
    },
    {
      "cell_type": "markdown",
      "metadata": {
        "id": "PGdxdbUb1zcW"
      },
      "source": [
        "### Dividing Features and Labels"
      ]
    },
    {
      "cell_type": "code",
      "metadata": {
        "id": "HSQYq31FgNCG"
      },
      "source": [
        "X = df.drop([\"Price\"] , axis = 1)\n",
        "y = df[\"Price\"]"
      ],
      "execution_count": 34,
      "outputs": []
    },
    {
      "cell_type": "code",
      "metadata": {
        "colab": {
          "base_uri": "https://localhost:8080/",
          "height": 399
        },
        "id": "_LJ-npoYg905",
        "outputId": "30e482a1-f0d3-45ec-e9ea-b7a8ce1a5899"
      },
      "source": [
        "X"
      ],
      "execution_count": 35,
      "outputs": [
        {
          "output_type": "execute_result",
          "data": {
            "text/html": [
              "<div>\n",
              "<style scoped>\n",
              "    .dataframe tbody tr th:only-of-type {\n",
              "        vertical-align: middle;\n",
              "    }\n",
              "\n",
              "    .dataframe tbody tr th {\n",
              "        vertical-align: top;\n",
              "    }\n",
              "\n",
              "    .dataframe thead th {\n",
              "        text-align: right;\n",
              "    }\n",
              "</style>\n",
              "<table border=\"1\" class=\"dataframe\">\n",
              "  <thead>\n",
              "    <tr style=\"text-align: right;\">\n",
              "      <th></th>\n",
              "      <th>Odometer (KM)</th>\n",
              "      <th>Make_BMW</th>\n",
              "      <th>Make_Honda</th>\n",
              "      <th>Make_Toyota</th>\n",
              "      <th>Colour_Black</th>\n",
              "      <th>Colour_Blue</th>\n",
              "      <th>Colour_Red</th>\n",
              "      <th>Colour_White</th>\n",
              "      <th>Doors_4.0</th>\n",
              "      <th>Doors_5.0</th>\n",
              "    </tr>\n",
              "  </thead>\n",
              "  <tbody>\n",
              "    <tr>\n",
              "      <th>0</th>\n",
              "      <td>35431.0</td>\n",
              "      <td>0</td>\n",
              "      <td>1</td>\n",
              "      <td>0</td>\n",
              "      <td>0</td>\n",
              "      <td>0</td>\n",
              "      <td>0</td>\n",
              "      <td>1</td>\n",
              "      <td>1</td>\n",
              "      <td>0</td>\n",
              "    </tr>\n",
              "    <tr>\n",
              "      <th>1</th>\n",
              "      <td>192714.0</td>\n",
              "      <td>1</td>\n",
              "      <td>0</td>\n",
              "      <td>0</td>\n",
              "      <td>0</td>\n",
              "      <td>1</td>\n",
              "      <td>0</td>\n",
              "      <td>0</td>\n",
              "      <td>0</td>\n",
              "      <td>1</td>\n",
              "    </tr>\n",
              "    <tr>\n",
              "      <th>2</th>\n",
              "      <td>84714.0</td>\n",
              "      <td>0</td>\n",
              "      <td>1</td>\n",
              "      <td>0</td>\n",
              "      <td>0</td>\n",
              "      <td>0</td>\n",
              "      <td>0</td>\n",
              "      <td>1</td>\n",
              "      <td>1</td>\n",
              "      <td>0</td>\n",
              "    </tr>\n",
              "    <tr>\n",
              "      <th>3</th>\n",
              "      <td>154365.0</td>\n",
              "      <td>0</td>\n",
              "      <td>0</td>\n",
              "      <td>1</td>\n",
              "      <td>0</td>\n",
              "      <td>0</td>\n",
              "      <td>0</td>\n",
              "      <td>1</td>\n",
              "      <td>1</td>\n",
              "      <td>0</td>\n",
              "    </tr>\n",
              "    <tr>\n",
              "      <th>4</th>\n",
              "      <td>181577.0</td>\n",
              "      <td>0</td>\n",
              "      <td>0</td>\n",
              "      <td>0</td>\n",
              "      <td>0</td>\n",
              "      <td>1</td>\n",
              "      <td>0</td>\n",
              "      <td>0</td>\n",
              "      <td>0</td>\n",
              "      <td>0</td>\n",
              "    </tr>\n",
              "    <tr>\n",
              "      <th>...</th>\n",
              "      <td>...</td>\n",
              "      <td>...</td>\n",
              "      <td>...</td>\n",
              "      <td>...</td>\n",
              "      <td>...</td>\n",
              "      <td>...</td>\n",
              "      <td>...</td>\n",
              "      <td>...</td>\n",
              "      <td>...</td>\n",
              "      <td>...</td>\n",
              "    </tr>\n",
              "    <tr>\n",
              "      <th>995</th>\n",
              "      <td>35820.0</td>\n",
              "      <td>0</td>\n",
              "      <td>0</td>\n",
              "      <td>1</td>\n",
              "      <td>1</td>\n",
              "      <td>0</td>\n",
              "      <td>0</td>\n",
              "      <td>0</td>\n",
              "      <td>1</td>\n",
              "      <td>0</td>\n",
              "    </tr>\n",
              "    <tr>\n",
              "      <th>996</th>\n",
              "      <td>155144.0</td>\n",
              "      <td>0</td>\n",
              "      <td>0</td>\n",
              "      <td>1</td>\n",
              "      <td>0</td>\n",
              "      <td>0</td>\n",
              "      <td>0</td>\n",
              "      <td>1</td>\n",
              "      <td>0</td>\n",
              "      <td>0</td>\n",
              "    </tr>\n",
              "    <tr>\n",
              "      <th>997</th>\n",
              "      <td>66604.0</td>\n",
              "      <td>0</td>\n",
              "      <td>0</td>\n",
              "      <td>0</td>\n",
              "      <td>0</td>\n",
              "      <td>1</td>\n",
              "      <td>0</td>\n",
              "      <td>0</td>\n",
              "      <td>1</td>\n",
              "      <td>0</td>\n",
              "    </tr>\n",
              "    <tr>\n",
              "      <th>998</th>\n",
              "      <td>215883.0</td>\n",
              "      <td>0</td>\n",
              "      <td>1</td>\n",
              "      <td>0</td>\n",
              "      <td>0</td>\n",
              "      <td>0</td>\n",
              "      <td>0</td>\n",
              "      <td>1</td>\n",
              "      <td>1</td>\n",
              "      <td>0</td>\n",
              "    </tr>\n",
              "    <tr>\n",
              "      <th>999</th>\n",
              "      <td>248360.0</td>\n",
              "      <td>0</td>\n",
              "      <td>0</td>\n",
              "      <td>1</td>\n",
              "      <td>0</td>\n",
              "      <td>1</td>\n",
              "      <td>0</td>\n",
              "      <td>0</td>\n",
              "      <td>1</td>\n",
              "      <td>0</td>\n",
              "    </tr>\n",
              "  </tbody>\n",
              "</table>\n",
              "<p>950 rows × 10 columns</p>\n",
              "</div>"
            ],
            "text/plain": [
              "     Odometer (KM)  Make_BMW  Make_Honda  ...  Colour_White  Doors_4.0  Doors_5.0\n",
              "0          35431.0         0           1  ...             1          1          0\n",
              "1         192714.0         1           0  ...             0          0          1\n",
              "2          84714.0         0           1  ...             1          1          0\n",
              "3         154365.0         0           0  ...             1          1          0\n",
              "4         181577.0         0           0  ...             0          0          0\n",
              "..             ...       ...         ...  ...           ...        ...        ...\n",
              "995        35820.0         0           0  ...             0          1          0\n",
              "996       155144.0         0           0  ...             1          0          0\n",
              "997        66604.0         0           0  ...             0          1          0\n",
              "998       215883.0         0           1  ...             1          1          0\n",
              "999       248360.0         0           0  ...             0          1          0\n",
              "\n",
              "[950 rows x 10 columns]"
            ]
          },
          "metadata": {
            "tags": []
          },
          "execution_count": 35
        }
      ]
    },
    {
      "cell_type": "code",
      "metadata": {
        "colab": {
          "base_uri": "https://localhost:8080/"
        },
        "id": "LhPWVkychDfj",
        "outputId": "cd19e4dd-a190-42d7-f5c7-1aedd858fce3"
      },
      "source": [
        "y"
      ],
      "execution_count": 36,
      "outputs": [
        {
          "output_type": "execute_result",
          "data": {
            "text/plain": [
              "0      15323.0\n",
              "1      19943.0\n",
              "2      28343.0\n",
              "3      13434.0\n",
              "4      14043.0\n",
              "        ...   \n",
              "995    32042.0\n",
              "996     5716.0\n",
              "997    31570.0\n",
              "998     4001.0\n",
              "999    12732.0\n",
              "Name: Price, Length: 950, dtype: float64"
            ]
          },
          "metadata": {
            "tags": []
          },
          "execution_count": 36
        }
      ]
    },
    {
      "cell_type": "markdown",
      "metadata": {
        "id": "dJo9lHc114Zh"
      },
      "source": [
        "## Splitting the data to train and test sets."
      ]
    },
    {
      "cell_type": "code",
      "metadata": {
        "colab": {
          "base_uri": "https://localhost:8080/"
        },
        "id": "KNMkIvPphEbA",
        "outputId": "ffd88fde-8ac6-4dab-b9f9-da39f69686db"
      },
      "source": [
        "from sklearn.model_selection import train_test_split\n",
        "X_train , X_test , y_train , y_test = train_test_split(X , y , test_size = 0.1 , random_state = 42)\n",
        "len(X_train) , len(X_test) , len(y_train) , len(y_test)"
      ],
      "execution_count": 37,
      "outputs": [
        {
          "output_type": "execute_result",
          "data": {
            "text/plain": [
              "(855, 95, 855, 95)"
            ]
          },
          "metadata": {
            "tags": []
          },
          "execution_count": 37
        }
      ]
    },
    {
      "cell_type": "markdown",
      "metadata": {
        "id": "-UUh5ZQN19xY"
      },
      "source": [
        "## Feature Scaling the data."
      ]
    },
    {
      "cell_type": "code",
      "metadata": {
        "id": "MabthOZhhWeA"
      },
      "source": [
        "from sklearn.preprocessing import StandardScaler\n",
        "scaler = StandardScaler()\n",
        "scaler.fit(X_train[[\"Odometer (KM)\"]])\n",
        "X_train[[\"Odometer (KM)\"]] = scaler.transform(X_train[[\"Odometer (KM)\"]])\n",
        "X_test[[\"Odometer (KM)\"]] = scaler.transform(X_test[[\"Odometer (KM)\"]])"
      ],
      "execution_count": 38,
      "outputs": []
    },
    {
      "cell_type": "code",
      "metadata": {
        "colab": {
          "base_uri": "https://localhost:8080/",
          "height": 399
        },
        "id": "XTjAFUL5h-vE",
        "outputId": "94053353-b122-40c1-c8a4-b1f677b4c70d"
      },
      "source": [
        "X_train"
      ],
      "execution_count": 39,
      "outputs": [
        {
          "output_type": "execute_result",
          "data": {
            "text/html": [
              "<div>\n",
              "<style scoped>\n",
              "    .dataframe tbody tr th:only-of-type {\n",
              "        vertical-align: middle;\n",
              "    }\n",
              "\n",
              "    .dataframe tbody tr th {\n",
              "        vertical-align: top;\n",
              "    }\n",
              "\n",
              "    .dataframe thead th {\n",
              "        text-align: right;\n",
              "    }\n",
              "</style>\n",
              "<table border=\"1\" class=\"dataframe\">\n",
              "  <thead>\n",
              "    <tr style=\"text-align: right;\">\n",
              "      <th></th>\n",
              "      <th>Odometer (KM)</th>\n",
              "      <th>Make_BMW</th>\n",
              "      <th>Make_Honda</th>\n",
              "      <th>Make_Toyota</th>\n",
              "      <th>Colour_Black</th>\n",
              "      <th>Colour_Blue</th>\n",
              "      <th>Colour_Red</th>\n",
              "      <th>Colour_White</th>\n",
              "      <th>Doors_4.0</th>\n",
              "      <th>Doors_5.0</th>\n",
              "    </tr>\n",
              "  </thead>\n",
              "  <tbody>\n",
              "    <tr>\n",
              "      <th>934</th>\n",
              "      <td>1.327670</td>\n",
              "      <td>0</td>\n",
              "      <td>1</td>\n",
              "      <td>0</td>\n",
              "      <td>0</td>\n",
              "      <td>0</td>\n",
              "      <td>0</td>\n",
              "      <td>1</td>\n",
              "      <td>1</td>\n",
              "      <td>0</td>\n",
              "    </tr>\n",
              "    <tr>\n",
              "      <th>72</th>\n",
              "      <td>0.015264</td>\n",
              "      <td>0</td>\n",
              "      <td>1</td>\n",
              "      <td>0</td>\n",
              "      <td>0</td>\n",
              "      <td>0</td>\n",
              "      <td>0</td>\n",
              "      <td>1</td>\n",
              "      <td>1</td>\n",
              "      <td>0</td>\n",
              "    </tr>\n",
              "    <tr>\n",
              "      <th>564</th>\n",
              "      <td>0.872541</td>\n",
              "      <td>0</td>\n",
              "      <td>0</td>\n",
              "      <td>0</td>\n",
              "      <td>0</td>\n",
              "      <td>1</td>\n",
              "      <td>0</td>\n",
              "      <td>0</td>\n",
              "      <td>1</td>\n",
              "      <td>0</td>\n",
              "    </tr>\n",
              "    <tr>\n",
              "      <th>44</th>\n",
              "      <td>1.241854</td>\n",
              "      <td>0</td>\n",
              "      <td>0</td>\n",
              "      <td>1</td>\n",
              "      <td>0</td>\n",
              "      <td>1</td>\n",
              "      <td>0</td>\n",
              "      <td>0</td>\n",
              "      <td>1</td>\n",
              "      <td>0</td>\n",
              "    </tr>\n",
              "    <tr>\n",
              "      <th>995</th>\n",
              "      <td>-1.419498</td>\n",
              "      <td>0</td>\n",
              "      <td>0</td>\n",
              "      <td>1</td>\n",
              "      <td>1</td>\n",
              "      <td>0</td>\n",
              "      <td>0</td>\n",
              "      <td>0</td>\n",
              "      <td>1</td>\n",
              "      <td>0</td>\n",
              "    </tr>\n",
              "    <tr>\n",
              "      <th>...</th>\n",
              "      <td>...</td>\n",
              "      <td>...</td>\n",
              "      <td>...</td>\n",
              "      <td>...</td>\n",
              "      <td>...</td>\n",
              "      <td>...</td>\n",
              "      <td>...</td>\n",
              "      <td>...</td>\n",
              "      <td>...</td>\n",
              "      <td>...</td>\n",
              "    </tr>\n",
              "    <tr>\n",
              "      <th>106</th>\n",
              "      <td>1.315235</td>\n",
              "      <td>0</td>\n",
              "      <td>0</td>\n",
              "      <td>1</td>\n",
              "      <td>0</td>\n",
              "      <td>0</td>\n",
              "      <td>0</td>\n",
              "      <td>1</td>\n",
              "      <td>1</td>\n",
              "      <td>0</td>\n",
              "    </tr>\n",
              "    <tr>\n",
              "      <th>277</th>\n",
              "      <td>1.713139</td>\n",
              "      <td>1</td>\n",
              "      <td>0</td>\n",
              "      <td>0</td>\n",
              "      <td>0</td>\n",
              "      <td>1</td>\n",
              "      <td>0</td>\n",
              "      <td>0</td>\n",
              "      <td>0</td>\n",
              "      <td>1</td>\n",
              "    </tr>\n",
              "    <tr>\n",
              "      <th>904</th>\n",
              "      <td>0.977800</td>\n",
              "      <td>0</td>\n",
              "      <td>0</td>\n",
              "      <td>1</td>\n",
              "      <td>0</td>\n",
              "      <td>0</td>\n",
              "      <td>0</td>\n",
              "      <td>1</td>\n",
              "      <td>1</td>\n",
              "      <td>0</td>\n",
              "    </tr>\n",
              "    <tr>\n",
              "      <th>450</th>\n",
              "      <td>0.034633</td>\n",
              "      <td>0</td>\n",
              "      <td>1</td>\n",
              "      <td>0</td>\n",
              "      <td>0</td>\n",
              "      <td>1</td>\n",
              "      <td>0</td>\n",
              "      <td>0</td>\n",
              "      <td>1</td>\n",
              "      <td>0</td>\n",
              "    </tr>\n",
              "    <tr>\n",
              "      <th>102</th>\n",
              "      <td>0.295653</td>\n",
              "      <td>0</td>\n",
              "      <td>1</td>\n",
              "      <td>0</td>\n",
              "      <td>0</td>\n",
              "      <td>0</td>\n",
              "      <td>0</td>\n",
              "      <td>1</td>\n",
              "      <td>1</td>\n",
              "      <td>0</td>\n",
              "    </tr>\n",
              "  </tbody>\n",
              "</table>\n",
              "<p>855 rows × 10 columns</p>\n",
              "</div>"
            ],
            "text/plain": [
              "     Odometer (KM)  Make_BMW  Make_Honda  ...  Colour_White  Doors_4.0  Doors_5.0\n",
              "934       1.327670         0           1  ...             1          1          0\n",
              "72        0.015264         0           1  ...             1          1          0\n",
              "564       0.872541         0           0  ...             0          1          0\n",
              "44        1.241854         0           0  ...             0          1          0\n",
              "995      -1.419498         0           0  ...             0          1          0\n",
              "..             ...       ...         ...  ...           ...        ...        ...\n",
              "106       1.315235         0           0  ...             1          1          0\n",
              "277       1.713139         1           0  ...             0          0          1\n",
              "904       0.977800         0           0  ...             1          1          0\n",
              "450       0.034633         0           1  ...             0          1          0\n",
              "102       0.295653         0           1  ...             1          1          0\n",
              "\n",
              "[855 rows x 10 columns]"
            ]
          },
          "metadata": {
            "tags": []
          },
          "execution_count": 39
        }
      ]
    },
    {
      "cell_type": "code",
      "metadata": {
        "colab": {
          "base_uri": "https://localhost:8080/",
          "height": 399
        },
        "id": "FDBzjXyCiGJd",
        "outputId": "04b1450c-2e2c-4646-80b0-09167bccb131"
      },
      "source": [
        "X_test"
      ],
      "execution_count": 40,
      "outputs": [
        {
          "output_type": "execute_result",
          "data": {
            "text/html": [
              "<div>\n",
              "<style scoped>\n",
              "    .dataframe tbody tr th:only-of-type {\n",
              "        vertical-align: middle;\n",
              "    }\n",
              "\n",
              "    .dataframe tbody tr th {\n",
              "        vertical-align: top;\n",
              "    }\n",
              "\n",
              "    .dataframe thead th {\n",
              "        text-align: right;\n",
              "    }\n",
              "</style>\n",
              "<table border=\"1\" class=\"dataframe\">\n",
              "  <thead>\n",
              "    <tr style=\"text-align: right;\">\n",
              "      <th></th>\n",
              "      <th>Odometer (KM)</th>\n",
              "      <th>Make_BMW</th>\n",
              "      <th>Make_Honda</th>\n",
              "      <th>Make_Toyota</th>\n",
              "      <th>Colour_Black</th>\n",
              "      <th>Colour_Blue</th>\n",
              "      <th>Colour_Red</th>\n",
              "      <th>Colour_White</th>\n",
              "      <th>Doors_4.0</th>\n",
              "      <th>Doors_5.0</th>\n",
              "    </tr>\n",
              "  </thead>\n",
              "  <tbody>\n",
              "    <tr>\n",
              "      <th>203</th>\n",
              "      <td>-0.463882</td>\n",
              "      <td>0</td>\n",
              "      <td>0</td>\n",
              "      <td>1</td>\n",
              "      <td>0</td>\n",
              "      <td>1</td>\n",
              "      <td>0</td>\n",
              "      <td>0</td>\n",
              "      <td>1</td>\n",
              "      <td>0</td>\n",
              "    </tr>\n",
              "    <tr>\n",
              "      <th>979</th>\n",
              "      <td>-1.686197</td>\n",
              "      <td>0</td>\n",
              "      <td>0</td>\n",
              "      <td>1</td>\n",
              "      <td>1</td>\n",
              "      <td>0</td>\n",
              "      <td>0</td>\n",
              "      <td>0</td>\n",
              "      <td>1</td>\n",
              "      <td>0</td>\n",
              "    </tr>\n",
              "    <tr>\n",
              "      <th>729</th>\n",
              "      <td>0.999307</td>\n",
              "      <td>0</td>\n",
              "      <td>1</td>\n",
              "      <td>0</td>\n",
              "      <td>0</td>\n",
              "      <td>1</td>\n",
              "      <td>0</td>\n",
              "      <td>0</td>\n",
              "      <td>1</td>\n",
              "      <td>0</td>\n",
              "    </tr>\n",
              "    <tr>\n",
              "      <th>838</th>\n",
              "      <td>1.566107</td>\n",
              "      <td>0</td>\n",
              "      <td>0</td>\n",
              "      <td>0</td>\n",
              "      <td>0</td>\n",
              "      <td>0</td>\n",
              "      <td>0</td>\n",
              "      <td>0</td>\n",
              "      <td>1</td>\n",
              "      <td>0</td>\n",
              "    </tr>\n",
              "    <tr>\n",
              "      <th>919</th>\n",
              "      <td>1.507372</td>\n",
              "      <td>0</td>\n",
              "      <td>1</td>\n",
              "      <td>0</td>\n",
              "      <td>1</td>\n",
              "      <td>0</td>\n",
              "      <td>0</td>\n",
              "      <td>0</td>\n",
              "      <td>1</td>\n",
              "      <td>0</td>\n",
              "    </tr>\n",
              "    <tr>\n",
              "      <th>...</th>\n",
              "      <td>...</td>\n",
              "      <td>...</td>\n",
              "      <td>...</td>\n",
              "      <td>...</td>\n",
              "      <td>...</td>\n",
              "      <td>...</td>\n",
              "      <td>...</td>\n",
              "      <td>...</td>\n",
              "      <td>...</td>\n",
              "      <td>...</td>\n",
              "    </tr>\n",
              "    <tr>\n",
              "      <th>847</th>\n",
              "      <td>0.015264</td>\n",
              "      <td>0</td>\n",
              "      <td>1</td>\n",
              "      <td>0</td>\n",
              "      <td>0</td>\n",
              "      <td>0</td>\n",
              "      <td>0</td>\n",
              "      <td>0</td>\n",
              "      <td>1</td>\n",
              "      <td>0</td>\n",
              "    </tr>\n",
              "    <tr>\n",
              "      <th>552</th>\n",
              "      <td>1.249506</td>\n",
              "      <td>0</td>\n",
              "      <td>1</td>\n",
              "      <td>0</td>\n",
              "      <td>0</td>\n",
              "      <td>0</td>\n",
              "      <td>0</td>\n",
              "      <td>1</td>\n",
              "      <td>1</td>\n",
              "      <td>0</td>\n",
              "    </tr>\n",
              "    <tr>\n",
              "      <th>533</th>\n",
              "      <td>1.358905</td>\n",
              "      <td>0</td>\n",
              "      <td>0</td>\n",
              "      <td>1</td>\n",
              "      <td>0</td>\n",
              "      <td>0</td>\n",
              "      <td>0</td>\n",
              "      <td>0</td>\n",
              "      <td>1</td>\n",
              "      <td>0</td>\n",
              "    </tr>\n",
              "    <tr>\n",
              "      <th>354</th>\n",
              "      <td>0.986917</td>\n",
              "      <td>0</td>\n",
              "      <td>1</td>\n",
              "      <td>0</td>\n",
              "      <td>0</td>\n",
              "      <td>1</td>\n",
              "      <td>0</td>\n",
              "      <td>0</td>\n",
              "      <td>1</td>\n",
              "      <td>0</td>\n",
              "    </tr>\n",
              "    <tr>\n",
              "      <th>352</th>\n",
              "      <td>-1.238466</td>\n",
              "      <td>0</td>\n",
              "      <td>1</td>\n",
              "      <td>0</td>\n",
              "      <td>0</td>\n",
              "      <td>0</td>\n",
              "      <td>1</td>\n",
              "      <td>0</td>\n",
              "      <td>1</td>\n",
              "      <td>0</td>\n",
              "    </tr>\n",
              "  </tbody>\n",
              "</table>\n",
              "<p>95 rows × 10 columns</p>\n",
              "</div>"
            ],
            "text/plain": [
              "     Odometer (KM)  Make_BMW  Make_Honda  ...  Colour_White  Doors_4.0  Doors_5.0\n",
              "203      -0.463882         0           0  ...             0          1          0\n",
              "979      -1.686197         0           0  ...             0          1          0\n",
              "729       0.999307         0           1  ...             0          1          0\n",
              "838       1.566107         0           0  ...             0          1          0\n",
              "919       1.507372         0           1  ...             0          1          0\n",
              "..             ...       ...         ...  ...           ...        ...        ...\n",
              "847       0.015264         0           1  ...             0          1          0\n",
              "552       1.249506         0           1  ...             1          1          0\n",
              "533       1.358905         0           0  ...             0          1          0\n",
              "354       0.986917         0           1  ...             0          1          0\n",
              "352      -1.238466         0           1  ...             0          1          0\n",
              "\n",
              "[95 rows x 10 columns]"
            ]
          },
          "metadata": {
            "tags": []
          },
          "execution_count": 40
        }
      ]
    },
    {
      "cell_type": "code",
      "metadata": {
        "id": "CmZhbDdcfq7A"
      },
      "source": [
        "# from sklearn.discriminant_analysis import LinearDiscriminantAnalysis as LDA\n",
        "# lda = LDA(n_components = 2)\n",
        "# X_train = lda.fit_transform(X_train , y_train)\n",
        "# X_test = lda.transform(X_test)"
      ],
      "execution_count": 41,
      "outputs": []
    },
    {
      "cell_type": "markdown",
      "metadata": {
        "id": "JK0LOrSd2C2T"
      },
      "source": [
        "## Model fitting"
      ]
    },
    {
      "cell_type": "markdown",
      "metadata": {
        "id": "qWZ89lBm2FZ2"
      },
      "source": [
        "### Linear Regressor\n",
        "[Documnetation](https://http://scikit-learn.org/stable/modules/generated/sklearn.linear_model.LinearRegression.html)"
      ]
    },
    {
      "cell_type": "code",
      "metadata": {
        "colab": {
          "base_uri": "https://localhost:8080/"
        },
        "id": "uIDJF043jBRQ",
        "outputId": "f28e0075-10d1-4b80-f407-72e82d4e3535"
      },
      "source": [
        "from sklearn.linear_model import LinearRegression\n",
        "linear = LinearRegression()   \n",
        "linear.fit(X_train , y_train)"
      ],
      "execution_count": 42,
      "outputs": [
        {
          "output_type": "execute_result",
          "data": {
            "text/plain": [
              "LinearRegression(copy_X=True, fit_intercept=True, n_jobs=None, normalize=False)"
            ]
          },
          "metadata": {
            "tags": []
          },
          "execution_count": 42
        }
      ]
    },
    {
      "cell_type": "markdown",
      "metadata": {
        "id": "5bgXpLmD2pjn"
      },
      "source": [
        "#### Getting score on Train set"
      ]
    },
    {
      "cell_type": "code",
      "metadata": {
        "colab": {
          "base_uri": "https://localhost:8080/"
        },
        "id": "ogHrHEtijdBB",
        "outputId": "b02d061e-d29b-4162-d23b-0e4284f69146"
      },
      "source": [
        "linear.score(X_train , y_train)"
      ],
      "execution_count": 43,
      "outputs": [
        {
          "output_type": "execute_result",
          "data": {
            "text/plain": [
              "0.35306486919967217"
            ]
          },
          "metadata": {
            "tags": []
          },
          "execution_count": 43
        }
      ]
    },
    {
      "cell_type": "markdown",
      "metadata": {
        "id": "-LyiyEna2t4V"
      },
      "source": [
        "#### Getting score on Test set"
      ]
    },
    {
      "cell_type": "code",
      "metadata": {
        "colab": {
          "base_uri": "https://localhost:8080/"
        },
        "id": "L4AEmDZtjgP-",
        "outputId": "f8f5a358-2a2c-4eec-f438-88ab412947ba"
      },
      "source": [
        "linear.score(X_test , y_test)"
      ],
      "execution_count": 44,
      "outputs": [
        {
          "output_type": "execute_result",
          "data": {
            "text/plain": [
              "0.08524268218022157"
            ]
          },
          "metadata": {
            "tags": []
          },
          "execution_count": 44
        }
      ]
    },
    {
      "cell_type": "markdown",
      "metadata": {
        "id": "fw9lF2Qr2NIi"
      },
      "source": [
        "#### Getting predictions of linear model on test data"
      ]
    },
    {
      "cell_type": "code",
      "metadata": {
        "colab": {
          "base_uri": "https://localhost:8080/"
        },
        "id": "ZAlXbOXc7lfX",
        "outputId": "df5262f9-47b0-4273-a133-f7b172750f4c"
      },
      "source": [
        "linear_preds = linear.predict(X_test)\n",
        "linear_preds"
      ],
      "execution_count": 45,
      "outputs": [
        {
          "output_type": "execute_result",
          "data": {
            "text/plain": [
              "array([18116.56272045, 21957.46837554, 11182.11835409,  7461.50082462,\n",
              "        9055.08527322, 10496.14086606, 15296.67417443, 14881.27716171,\n",
              "       20151.95108394, 14207.75365942,  6772.37393904, 17144.2196176 ,\n",
              "       11356.58257342, 13630.94827351, 13905.07349147, 16018.47254756,\n",
              "       15349.10013757,  9930.78175381, 11473.39125052, 11287.07370224,\n",
              "       10085.86254764, 13713.86950679, 17474.20816722, 23662.13734493,\n",
              "       12377.89934938, 15084.39684195, 19157.47091796, 14023.82506791,\n",
              "       20531.78664025, 20139.27924354, 18088.42668533, 21743.26498495,\n",
              "       12947.97654961, 14175.92990779, 18087.51672236, 19737.92843489,\n",
              "       11787.80855579, 12632.15343377, 18415.24022175, 10855.61612318,\n",
              "       15307.49863729, 16734.01284308, 18853.03855551, 17275.9943918 ,\n",
              "       15098.32688901, 14008.06052384, 11723.42052963,  8735.40280339,\n",
              "       15178.52275964, 18771.97398717, 11449.26059353, 21719.82022675,\n",
              "       19280.53027854,  9152.21713041, 17543.8373003 , 15762.13071332,\n",
              "       14111.23038392, 11905.9780287 , 12370.03039163, 13737.59534282,\n",
              "       11169.82657186, 16095.78189475, 13759.4501112 , 17854.16262665,\n",
              "       17003.87529636, 16659.02595611, 12484.62011014, 18291.71283856,\n",
              "       19013.01141068, 14234.19163998, 14227.28890004, 19448.22937771,\n",
              "       17318.36409456, 15495.4815859 , 16158.3510735 , 12112.13008114,\n",
              "       13141.92273113, 14046.52070784, 32781.07721982, 17201.887364  ,\n",
              "       13361.53838897, 13296.32631817, 14129.90016809, 22060.79080688,\n",
              "       12069.85454866, 17067.5609344 , 11589.64632543, 14888.76700858,\n",
              "       19961.15428215, 18088.99368101, 12287.90167245,  9950.9563216 ,\n",
              "        9541.82272166, 11224.84920987, 17515.55453708])"
            ]
          },
          "metadata": {
            "tags": []
          },
          "execution_count": 45
        }
      ]
    },
    {
      "cell_type": "markdown",
      "metadata": {
        "id": "zDFyFaPW2TXn"
      },
      "source": [
        "#### Visualizing the y_true and linear_preds"
      ]
    },
    {
      "cell_type": "code",
      "metadata": {
        "colab": {
          "base_uri": "https://localhost:8080/",
          "height": 265
        },
        "id": "wuXp_mLO7lb7",
        "outputId": "5a71fbfc-bbcf-43a9-b992-2ae25ae87351"
      },
      "source": [
        "plt.scatter(y_test , linear_preds)\n",
        "x = np.linspace(min(y_test),max(y_test),100)\n",
        "y = x\n",
        "plt.plot(x, y , \"-r\");"
      ],
      "execution_count": 46,
      "outputs": [
        {
          "output_type": "display_data",
          "data": {
            "image/png": "[encoded data removed]",
            "text/plain": [
              "<Figure size 432x288 with 1 Axes>"
            ]
          },
          "metadata": {
            "tags": [],
            "needs_background": "light"
          }
        }
      ]
    },
    {
      "cell_type": "markdown",
      "metadata": {
        "id": "IfONLARY2bua"
      },
      "source": [
        "#### `Mean squared log error` evaluation metrics of linear model on test set"
      ]
    },
    {
      "cell_type": "code",
      "metadata": {
        "colab": {
          "base_uri": "https://localhost:8080/"
        },
        "id": "PykiefBICnlJ",
        "outputId": "173c94f7-a527-48fb-bd67-dc64808a8240"
      },
      "source": [
        "linear_score = sklearn.metrics.mean_squared_log_error(y_test , linear_preds)\n",
        "linear_score"
      ],
      "execution_count": 47,
      "outputs": [
        {
          "output_type": "execute_result",
          "data": {
            "text/plain": [
              "0.2813850892448644"
            ]
          },
          "metadata": {
            "tags": []
          },
          "execution_count": 47
        }
      ]
    },
    {
      "cell_type": "markdown",
      "metadata": {
        "id": "F_2eTSUm2nMG"
      },
      "source": [
        "### Random Forest Regressor \n",
        "[Documentation](https://https://scikit-learn.org/stable/modules/generated/sklearn.ensemble.RandomForestRegressor.html)"
      ]
    },
    {
      "cell_type": "code",
      "metadata": {
        "colab": {
          "base_uri": "https://localhost:8080/"
        },
        "id": "DvPD-oiRjkMs",
        "outputId": "e7b7ac15-0eac-4785-e42b-649844ffd6fa"
      },
      "source": [
        "from sklearn.ensemble import RandomForestRegressor\n",
        "random = RandomForestRegressor(random_state = 42)\n",
        "random.fit(X_train , y_train)"
      ],
      "execution_count": 48,
      "outputs": [
        {
          "output_type": "execute_result",
          "data": {
            "text/plain": [
              "RandomForestRegressor(bootstrap=True, ccp_alpha=0.0, criterion='mse',\n",
              "                      max_depth=None, max_features='auto', max_leaf_nodes=None,\n",
              "                      max_samples=None, min_impurity_decrease=0.0,\n",
              "                      min_impurity_split=None, min_samples_leaf=1,\n",
              "                      min_samples_split=2, min_weight_fraction_leaf=0.0,\n",
              "                      n_estimators=100, n_jobs=None, oob_score=False,\n",
              "                      random_state=42, verbose=0, warm_start=False)"
            ]
          },
          "metadata": {
            "tags": []
          },
          "execution_count": 48
        }
      ]
    },
    {
      "cell_type": "markdown",
      "metadata": {
        "id": "7xKzQBQj24qT"
      },
      "source": [
        "#### Getting score on Train set"
      ]
    },
    {
      "cell_type": "code",
      "metadata": {
        "colab": {
          "base_uri": "https://localhost:8080/"
        },
        "id": "Pm65XPizkeig",
        "outputId": "c3e05353-a78b-40d6-b215-e194c7052878"
      },
      "source": [
        "random.score(X_train , y_train)"
      ],
      "execution_count": 49,
      "outputs": [
        {
          "output_type": "execute_result",
          "data": {
            "text/plain": [
              "0.877741126922778"
            ]
          },
          "metadata": {
            "tags": []
          },
          "execution_count": 49
        }
      ]
    },
    {
      "cell_type": "markdown",
      "metadata": {
        "id": "jdqATCn527xU"
      },
      "source": [
        "#### Getting score on Test set"
      ]
    },
    {
      "cell_type": "code",
      "metadata": {
        "colab": {
          "base_uri": "https://localhost:8080/"
        },
        "id": "VhKwQrkFkhOw",
        "outputId": "51d3f6a3-d568-4d10-83d8-16c7b61abf8c"
      },
      "source": [
        "random.score(X_test , y_test)"
      ],
      "execution_count": 50,
      "outputs": [
        {
          "output_type": "execute_result",
          "data": {
            "text/plain": [
              "0.027663472077119278"
            ]
          },
          "metadata": {
            "tags": []
          },
          "execution_count": 50
        }
      ]
    },
    {
      "cell_type": "markdown",
      "metadata": {
        "id": "TwDynaVq3AJ7"
      },
      "source": [
        "#### Getting predictions of Randomforest model on test data"
      ]
    },
    {
      "cell_type": "code",
      "metadata": {
        "colab": {
          "base_uri": "https://localhost:8080/"
        },
        "id": "mKOqW6i17fyb",
        "outputId": "84468e6a-5184-41c8-848e-2c35ee5da618"
      },
      "source": [
        "random_preds = random.predict(X_test)\n",
        "random_preds"
      ],
      "execution_count": 51,
      "outputs": [
        {
          "output_type": "execute_result",
          "data": {
            "text/plain": [
              "array([17141.96      , 20767.04      , 11993.16      ,  9833.39      ,\n",
              "       11286.99      , 11425.3       , 11755.22      , 10976.62      ,\n",
              "       14794.39      , 16210.40350482,  8032.21      , 12367.81      ,\n",
              "        7964.61      , 10811.86      , 13754.29      , 19550.14      ,\n",
              "       17233.44      ,  6555.66      , 10823.1       , 11886.83      ,\n",
              "       11718.        , 17797.86875397, 18798.51      , 25749.4       ,\n",
              "        9901.04733333, 23783.03      , 12182.98      ,  7531.76      ,\n",
              "       19689.2       , 17032.18      , 12520.44      , 13531.17      ,\n",
              "       11185.18      , 10923.68696429, 28466.19      , 15787.15      ,\n",
              "       11628.47      , 12307.07      , 15100.75      ,  8156.18      ,\n",
              "       11976.02      , 19300.04      , 24148.88      , 18343.72      ,\n",
              "       14319.49388095, 12090.08      , 15076.93      ,  8164.23      ,\n",
              "       16013.82      , 14041.48      , 11025.18      , 21085.63      ,\n",
              "       15659.17      ,  6210.47      , 12320.11      , 11847.04      ,\n",
              "       14535.58      , 11490.57      , 19318.11196429, 13045.5       ,\n",
              "       13389.09      , 24186.96024872, 10192.45      , 16722.27      ,\n",
              "       24364.37      , 26290.        , 11112.54      , 20185.47      ,\n",
              "       18268.2       , 20937.82      , 15135.05      , 20517.23      ,\n",
              "       16495.56      , 15670.55      , 13429.05      ,  9051.73      ,\n",
              "        9396.24      , 11833.18      , 23616.9       , 10125.12      ,\n",
              "       16253.75      , 11842.05      , 12200.12988095, 13834.13      ,\n",
              "        9929.53      , 13690.53      ,  9880.15      , 17717.75      ,\n",
              "       16229.19      , 12520.44      , 19884.11940606, 10173.27      ,\n",
              "        9924.11      , 10174.29      , 20150.05      ])"
            ]
          },
          "metadata": {
            "tags": []
          },
          "execution_count": 51
        }
      ]
    },
    {
      "cell_type": "markdown",
      "metadata": {
        "id": "CcF6aiTG3GDo"
      },
      "source": [
        "#### Visualizing the y_true and random_preds"
      ]
    },
    {
      "cell_type": "code",
      "metadata": {
        "colab": {
          "base_uri": "https://localhost:8080/",
          "height": 265
        },
        "id": "0tS--vZr7fvB",
        "outputId": "22e85ab9-2c51-4665-e082-39cc2f2b1ca7"
      },
      "source": [
        "plt.scatter(y_test , random_preds)\n",
        "x = np.linspace(min(y_test),max(y_test),100)\n",
        "y = x\n",
        "plt.plot(x, y , \"-r\");"
      ],
      "execution_count": 52,
      "outputs": [
        {
          "output_type": "display_data",
          "data": {
            "image/png": "[encoded data removed]",
            "text/plain": [
              "<Figure size 432x288 with 1 Axes>"
            ]
          },
          "metadata": {
            "tags": [],
            "needs_background": "light"
          }
        }
      ]
    },
    {
      "cell_type": "markdown",
      "metadata": {
        "id": "HY3lEaPX3Jj2"
      },
      "source": [
        "#### `Mean squared log error` evaluation metrics of randomforest model on test set"
      ]
    },
    {
      "cell_type": "code",
      "metadata": {
        "colab": {
          "base_uri": "https://localhost:8080/"
        },
        "id": "WUFBdjh3Cqz4",
        "outputId": "9d6211b8-f1c1-4e61-ec1d-433a45686663"
      },
      "source": [
        "random_score = sklearn.metrics.mean_squared_log_error(y_test , random_preds)\n",
        "random_score"
      ],
      "execution_count": 53,
      "outputs": [
        {
          "output_type": "execute_result",
          "data": {
            "text/plain": [
              "0.2857286609379145"
            ]
          },
          "metadata": {
            "tags": []
          },
          "execution_count": 53
        }
      ]
    },
    {
      "cell_type": "markdown",
      "metadata": {
        "id": "-eN3a_-O3SxX"
      },
      "source": [
        "### XGBRegressor"
      ]
    },
    {
      "cell_type": "code",
      "metadata": {
        "id": "iPd0KqhXlJgu",
        "colab": {
          "base_uri": "https://localhost:8080/"
        },
        "outputId": "c7977779-5d7e-4b7e-9dd8-1d55e348fa2c"
      },
      "source": [
        "from xgboost import XGBRegressor\n",
        "xgb = XGBRegressor()\n",
        "xgb.fit(X_train , y_train)"
      ],
      "execution_count": 54,
      "outputs": [
        {
          "output_type": "stream",
          "text": [
            "[17:34:38] WARNING: /workspace/src/objective/regression_obj.cu:152: reg:linear is now deprecated in favor of reg:squarederror.\n"
          ],
          "name": "stdout"
        },
        {
          "output_type": "execute_result",
          "data": {
            "text/plain": [
              "XGBRegressor(base_score=0.5, booster='gbtree', colsample_bylevel=1,\n",
              "             colsample_bynode=1, colsample_bytree=1, gamma=0,\n",
              "             importance_type='gain', learning_rate=0.1, max_delta_step=0,\n",
              "             max_depth=3, min_child_weight=1, missing=None, n_estimators=100,\n",
              "             n_jobs=1, nthread=None, objective='reg:linear', random_state=0,\n",
              "             reg_alpha=0, reg_lambda=1, scale_pos_weight=1, seed=None,\n",
              "             silent=None, subsample=1, verbosity=1)"
            ]
          },
          "metadata": {
            "tags": []
          },
          "execution_count": 54
        }
      ]
    },
    {
      "cell_type": "markdown",
      "metadata": {
        "id": "-ROTu33Q3Y2m"
      },
      "source": [
        "#### Getting score on Train set"
      ]
    },
    {
      "cell_type": "code",
      "metadata": {
        "colab": {
          "base_uri": "https://localhost:8080/"
        },
        "id": "3nguZD4m7We4",
        "outputId": "b4517c59-4e8c-4243-97e9-174f74757bb7"
      },
      "source": [
        "xgb.score(X_train , y_train)"
      ],
      "execution_count": 55,
      "outputs": [
        {
          "output_type": "execute_result",
          "data": {
            "text/plain": [
              "0.552983029513166"
            ]
          },
          "metadata": {
            "tags": []
          },
          "execution_count": 55
        }
      ]
    },
    {
      "cell_type": "markdown",
      "metadata": {
        "id": "yiZKuOas3aRd"
      },
      "source": [
        "#### Getting score on Test set"
      ]
    },
    {
      "cell_type": "code",
      "metadata": {
        "colab": {
          "base_uri": "https://localhost:8080/"
        },
        "id": "Zhyr0RO37Y4E",
        "outputId": "21f9a20d-e1cd-4697-9beb-acfdec53f0b8"
      },
      "source": [
        "xgb.score(X_test , y_test)"
      ],
      "execution_count": 56,
      "outputs": [
        {
          "output_type": "execute_result",
          "data": {
            "text/plain": [
              "0.164183330489848"
            ]
          },
          "metadata": {
            "tags": []
          },
          "execution_count": 56
        }
      ]
    },
    {
      "cell_type": "markdown",
      "metadata": {
        "id": "bs4f9rvo3e9Q"
      },
      "source": [
        "#### Getting predictions of XGBRegressor model on test data"
      ]
    },
    {
      "cell_type": "code",
      "metadata": {
        "colab": {
          "base_uri": "https://localhost:8080/"
        },
        "id": "UztKCf1t7bwM",
        "outputId": "f9f2c232-b5c8-4e22-c85f-07f78a3ccdd1"
      },
      "source": [
        "xgb_preds = xgb.predict(X_test)\n",
        "xgb_preds"
      ],
      "execution_count": 57,
      "outputs": [
        {
          "output_type": "execute_result",
          "data": {
            "text/plain": [
              "array([19313.316 , 19169.156 , 11791.149 , 10533.552 , 10139.213 ,\n",
              "       10839.619 , 14648.756 , 11658.7   , 13089.177 , 14872.099 ,\n",
              "        8144.312 , 16725.432 , 11444.634 , 11658.7   , 12289.28  ,\n",
              "       15397.421 , 15560.778 , 10753.182 , 11479.497 , 11058.767 ,\n",
              "       11618.56  , 14493.236 , 14696.923 , 23415.332 , 14253.352 ,\n",
              "       19225.068 , 15946.15  , 12016.584 , 19907.05  , 19372.438 ,\n",
              "       19100.6   , 17812.773 , 12193.0205, 15576.27  , 26536.615 ,\n",
              "       19372.438 , 11444.634 , 11575.757 , 20421.492 ,  9385.92  ,\n",
              "       14648.756 , 17390.605 , 20469.66  , 18702.85  , 14541.403 ,\n",
              "       12289.28  , 10753.182 , 10033.391 , 15396.092 , 19116.041 ,\n",
              "       11444.634 , 16487.467 , 19580.492 ,  7850.714 , 16449.453 ,\n",
              "       13937.112 , 15396.092 , 11176.934 , 14300.779 , 12193.0205,\n",
              "       11396.541 , 15955.132 , 11658.7   , 16959.744 , 19273.236 ,\n",
              "       19580.492 , 11602.602 , 20009.902 , 19212.818 , 20330.428 ,\n",
              "       13572.307 , 20266.527 , 18345.023 , 15444.259 , 13399.511 ,\n",
              "       10801.274 , 11855.246 , 12639.808 , 23628.355 , 14648.756 ,\n",
              "       13744.669 , 12289.28  , 13984.841 , 17730.541 , 12066.894 ,\n",
              "       16480.299 , 11479.497 , 15950.746 , 19833.275 , 19100.6   ,\n",
              "       14493.236 ,  9479.758 , 11396.541 , 11791.149 , 18840.225 ],\n",
              "      dtype=float32)"
            ]
          },
          "metadata": {
            "tags": []
          },
          "execution_count": 57
        }
      ]
    },
    {
      "cell_type": "markdown",
      "metadata": {
        "id": "wNnMGKxw3kAG"
      },
      "source": [
        "#### Visualizing the y_true and xgb_preds"
      ]
    },
    {
      "cell_type": "code",
      "metadata": {
        "colab": {
          "base_uri": "https://localhost:8080/",
          "height": 265
        },
        "id": "NO0oZyxP7vvs",
        "outputId": "eff854c8-a6c1-4cc3-aa9e-0b3fe8d17eac"
      },
      "source": [
        "plt.scatter(y_test , xgb_preds)\n",
        "x = np.linspace(min(y_test),max(y_test),100)\n",
        "y = x\n",
        "plt.plot(x, y , \"-r\");"
      ],
      "execution_count": 58,
      "outputs": [
        {
          "output_type": "display_data",
          "data": {
            "image/png": "[encoded data removed]",
            "text/plain": [
              "<Figure size 432x288 with 1 Axes>"
            ]
          },
          "metadata": {
            "tags": [],
            "needs_background": "light"
          }
        }
      ]
    },
    {
      "cell_type": "markdown",
      "metadata": {
        "id": "uunEIPB53pB5"
      },
      "source": [
        "#### `Mean squared log error` evaluation metrics of XGBRegressor model on test set"
      ]
    },
    {
      "cell_type": "code",
      "metadata": {
        "colab": {
          "base_uri": "https://localhost:8080/"
        },
        "id": "rekoQ1aC7yB_",
        "outputId": "060be7c7-85d9-428a-da1f-ea680590ed0e"
      },
      "source": [
        "xgb_score = sklearn.metrics.mean_squared_log_error(y_test , xgb_preds)\n",
        "xgb_score"
      ],
      "execution_count": 59,
      "outputs": [
        {
          "output_type": "execute_result",
          "data": {
            "text/plain": [
              "0.2645062674517836"
            ]
          },
          "metadata": {
            "tags": []
          },
          "execution_count": 59
        }
      ]
    },
    {
      "cell_type": "markdown",
      "metadata": {
        "id": "gtQf3q_1iw72"
      },
      "source": [
        "## Training with Artificial Neural Networks (ANN)"
      ]
    },
    {
      "cell_type": "markdown",
      "metadata": {
        "id": "KrvYAD6di7J2"
      },
      "source": [
        "### Importing modules for ANN model training"
      ]
    },
    {
      "cell_type": "code",
      "metadata": {
        "id": "q-O8BEjwiM1Z"
      },
      "source": [
        "import tensorflow as tf\n",
        "from tensorflow.keras.models import Sequential\n",
        "from tensorflow.keras.layers import Dense\n",
        "from tensorflow.keras.optimizers import Adam"
      ],
      "execution_count": 60,
      "outputs": []
    },
    {
      "cell_type": "code",
      "metadata": {
        "colab": {
          "base_uri": "https://localhost:8080/",
          "height": 36
        },
        "id": "g1EyFoR1iMzF",
        "outputId": "1e4ca337-797b-44f0-8ec6-f82b0130e660"
      },
      "source": [
        "# Checking tensorflow version\n",
        "tf.__version__"
      ],
      "execution_count": 61,
      "outputs": [
        {
          "output_type": "execute_result",
          "data": {
            "application/vnd.google.colaboratory.intrinsic+json": {
              "type": "string"
            },
            "text/plain": [
              "'2.4.1'"
            ]
          },
          "metadata": {
            "tags": []
          },
          "execution_count": 61
        }
      ]
    },
    {
      "cell_type": "markdown",
      "metadata": {
        "id": "VRaadCU4jnpa"
      },
      "source": [
        "### Building the model\n",
        "1. Creating Instance of Sequential architecture\n",
        "2. Adding Dense layers\n",
        "3. Compiling the model with optimizers , evaluation metrics , loss functions etc\n",
        "4. Training and evaluating the model"
      ]
    },
    {
      "cell_type": "markdown",
      "metadata": {
        "id": "G-DNl9tGlsBJ"
      },
      "source": [
        "### Preprocessing data into matrixs as ANN only deals with matrix but not with Dataframes"
      ]
    },
    {
      "cell_type": "code",
      "metadata": {
        "id": "U1QxIgZLlsZj"
      },
      "source": [
        "X_train = X_train[X_train.columns].values\n",
        "y_train = y_train.ravel()"
      ],
      "execution_count": 62,
      "outputs": []
    },
    {
      "cell_type": "code",
      "metadata": {
        "colab": {
          "base_uri": "https://localhost:8080/"
        },
        "id": "dSjrtPk5l3y-",
        "outputId": "1ba7fc67-a4a4-4d32-83ac-3ce7acc4a205"
      },
      "source": [
        "X_train"
      ],
      "execution_count": 63,
      "outputs": [
        {
          "output_type": "execute_result",
          "data": {
            "text/plain": [
              "array([[1.32766966, 0.        , 1.        , ..., 1.        , 1.        ,\n",
              "        0.        ],\n",
              "       [0.01526417, 0.        , 1.        , ..., 1.        , 1.        ,\n",
              "        0.        ],\n",
              "       [0.87254081, 0.        , 0.        , ..., 0.        , 1.        ,\n",
              "        0.        ],\n",
              "       ...,\n",
              "       [0.97780047, 0.        , 0.        , ..., 1.        , 1.        ,\n",
              "        0.        ],\n",
              "       [0.03463327, 0.        , 1.        , ..., 0.        , 1.        ,\n",
              "        0.        ],\n",
              "       [0.29565271, 0.        , 1.        , ..., 1.        , 1.        ,\n",
              "        0.        ]])"
            ]
          },
          "metadata": {
            "tags": []
          },
          "execution_count": 63
        }
      ]
    },
    {
      "cell_type": "code",
      "metadata": {
        "colab": {
          "base_uri": "https://localhost:8080/"
        },
        "id": "LDkiU1uKl3vX",
        "outputId": "a4099511-6f70-4ba2-d289-2c15c602a474"
      },
      "source": [
        "y_train"
      ],
      "execution_count": 64,
      "outputs": [
        {
          "output_type": "execute_result",
          "data": {
            "text/plain": [
              "array([12216.,  5648., 18834.,  5743., 32042., 15652.,  8870.,  7076.,\n",
              "       29959., 48239.,  4896., 18198., 12353., 29004.,  6200., 31392.,\n",
              "       13722.,  3944.,  3893., 23840., 19271.,  4358., 25104., 19357.,\n",
              "       16892., 24668., 18524., 24494.,  5922., 19052., 30374.,  8380.,\n",
              "        9648.,  5008., 17795., 22542., 16001., 31206., 25763.,  6391.,\n",
              "       12609., 13147., 10380., 29551.,  9155., 10494., 13932., 18139.,\n",
              "       19408., 22587., 10580., 14795.,  6029.,  6917., 17036., 13934.,\n",
              "       10316., 33463., 12402., 16320., 14282., 23868.,  6502., 10456.,\n",
              "       17105., 18919., 26813., 25775., 23280.,  5260., 18396., 20490.,\n",
              "        7874., 14613.,  5933., 19545., 12901., 14198., 13546., 10429.,\n",
              "       16774.,  9928., 29363., 22784., 14331.,  7425., 13707., 48419.,\n",
              "       31666., 11140., 10377.,  9780.,  6866., 16705., 18375., 26882.,\n",
              "        7042., 29145., 17866.,  4747., 18484., 21653., 16016., 13199.,\n",
              "       14204., 28830., 13070., 23902., 28343., 13250., 11036., 23747.,\n",
              "       19036., 23883.,  9918., 18358., 12988., 22042., 19453., 16519.,\n",
              "       35760., 10834., 12311., 23377., 28422.,  8105.,  9500., 14145.,\n",
              "       15686., 13430., 16259.,  8164., 22139., 29293., 24342., 13272.,\n",
              "       18653., 11485., 11982., 17664., 13586., 48686., 10241., 10841.,\n",
              "       16719.,  5222., 25873., 18199., 20142., 27337., 11076., 25382.,\n",
              "       17556., 12408., 16730., 12146., 33077., 38128., 39021., 20590.,\n",
              "       32509., 17860., 31570., 18346.,  7350., 16345., 20503., 20893.,\n",
              "        9992., 24834., 25490., 26675., 13433., 20306., 20155., 10675.,\n",
              "       19629., 17635.,  8479., 28655., 10740., 19373.,  7433.,  7378.,\n",
              "       10429.,  7802., 23844., 12392.,  6241.,  9953., 14650.,  7286.,\n",
              "       12531., 18310., 20497., 15184.,  6960., 32887., 33324.,  8321.,\n",
              "        6784., 17520., 24242.,  3751., 15323., 15673., 19376., 18058.,\n",
              "       23483.,  9108.,  6962., 15960., 35600., 19500., 21006., 15010.,\n",
              "        5776.,  5548., 14189., 16391.,  9785., 32379.,  8460., 10628.,\n",
              "        4863.,  4733., 14986.,  7973., 10582.,  7861.,  6135., 27744.,\n",
              "       25133.,  8461., 10287., 20282.,  4001., 34133., 34286.,  8473.,\n",
              "       13334., 15610., 12001.,  9710., 40032., 15095., 23074.,  5135.,\n",
              "       34856., 23339., 10030., 24354.,  4754.,  8082., 12434., 39738.,\n",
              "        7100.,  5157., 15617., 17690., 15662., 15047.,  3594., 11135.,\n",
              "       14274.,  6121.,  4606., 19389., 23719., 13698., 13928., 17315.,\n",
              "       17065., 27640.,  6698., 14590.,  9184., 10278.,  9109., 22643.,\n",
              "        6602.,  9545., 23017.,  5708., 12172.,  6476., 10646., 14089.,\n",
              "        7497., 17876.,  7910., 17317., 16909.,  9290., 17961.,  7827.,\n",
              "       20622., 35004., 20879.,  3509., 26973., 13213., 18440., 18923.,\n",
              "       12398., 14717., 15413., 10261., 31633., 15767., 26954., 28073.,\n",
              "        5168., 14227., 18355., 19502., 24629., 26078., 10259., 10125.,\n",
              "       15541.,  8753.,  4946.,  6481., 22825., 35988., 25649.,  8358.,\n",
              "       13519., 22816.,  8192.,  5421., 11749.,  6762.,  6160., 10855.,\n",
              "       16519., 19085.,  6337., 24949.,  7193., 11648., 24304., 33198.,\n",
              "       10865., 14202., 13251., 12218., 14074., 10024., 22921., 15260.,\n",
              "       20075., 18327., 16908., 13608., 32863., 16517., 32676.,  8786.,\n",
              "        4871., 20450., 16290., 13434.,  7903., 10516.,  4239.,  2796.,\n",
              "       17152., 10450., 23336., 22794., 20100., 21921.,  7882.,  6460.,\n",
              "       11182., 26683., 18182., 22489.,  8704., 21830., 15154., 17487.,\n",
              "       14671.,  5513., 17597., 22989.,  5653., 29487., 21236., 18306.,\n",
              "       24178., 12201.,  7032.,  6283.,  8687., 10597.,  9074., 20938.,\n",
              "       10602., 13056., 16488., 14134., 20642., 16285., 19106., 20424.,\n",
              "       17256.,  6920., 21953.,  5052.,  6386., 22597.,  7183., 19175.,\n",
              "       13106., 17858.,  7725., 24990., 10091., 10962., 13244., 33040.,\n",
              "       50868., 17596., 35432., 29616., 15778., 19186., 14698., 26940.,\n",
              "       13492., 13005., 25196.,  5125.,  6978., 12732.,  9878.,  4696.,\n",
              "        9379., 16319., 30191., 20237., 10439., 27598.,  8071., 11648.,\n",
              "       45509.,  7445., 14502., 15666., 31536.,  4589., 41294., 18142.,\n",
              "       13652.,  6010., 16835., 30323., 17322., 18180., 15508.,  8916.,\n",
              "        9224., 23287., 14404., 18429.,  8930., 30020., 16202., 12392.,\n",
              "       33353., 13394.,  5138., 18557., 17177., 13427.,  3974., 29681.,\n",
              "       25735., 34231.,  8706., 30407., 29876., 13146., 26846.,  8203.,\n",
              "        9685.,  9222.,  6504., 27888., 20511.,  4196.,  5925., 52458.,\n",
              "        8260., 23554., 17980., 34465., 14442.,  6075., 24891., 10349.,\n",
              "       35683.,  6690.,  4200.,  7708., 31208., 18691., 13344., 35687.,\n",
              "        7682., 16622., 17284., 12086., 15131., 14691., 13703.,  7443.,\n",
              "       15224., 33817., 22873., 10596., 16766.,  9362.,  4941., 16416.,\n",
              "       10821., 26885., 35254., 14793.,  9104.,  5332., 38984., 15297.,\n",
              "       23240., 17802., 10823.,  6480.,  5316., 38060., 16805.,  8513.,\n",
              "       20242., 10747., 11192.,  8269., 10835.,  8014., 12641., 28013.,\n",
              "       13474., 14026.,  9374.,  4566., 23438., 21684., 12058., 13111.,\n",
              "       10888., 26308., 14431., 26834., 18248., 27852., 17917., 21431.,\n",
              "       23311., 14312., 10707., 20108., 29401., 27146., 16220.,  8253.,\n",
              "       21326., 10038.,  4566., 11548.,  5594.,  4022., 15827., 22176.,\n",
              "       13647.,  7252.,  6848., 15604.,  7898., 16110., 30412., 12315.,\n",
              "       13559., 28276.,  6431., 13200., 26677.,  7994.,  7800., 12476.,\n",
              "       12592., 16603., 13310., 18222., 21679., 19572.,  7813., 28414.,\n",
              "       16636.,  5865., 15810., 24122., 25874., 11364., 12522.,  7823.,\n",
              "        9554., 13273., 16867., 36864.,  4968., 12745., 17939., 47260.,\n",
              "       15234., 13417., 17171.,  6357., 22943., 16464., 27787., 11733.,\n",
              "       14767., 12186.,  6242.,  6446.,  5834., 11092.,  7126., 20219.,\n",
              "       11616., 13263., 19720.,  9073., 20845.,  6568.,  9675., 16308.,\n",
              "        9402., 11768., 22155., 19337.,  9734., 14849., 23386., 21007.,\n",
              "        3974., 14086.,  9649.,  3825., 11454., 38233., 16273., 19832.,\n",
              "        9919., 12904.,  7994., 33758., 20840., 10283.,  5273., 10726.,\n",
              "       34110., 16072.,  8738., 14021.,  3247.,  4165., 25780., 23945.,\n",
              "        8430.,  7955., 21612., 16337.,  9529., 14160.,  7157.,  8137.,\n",
              "       11298., 16865.,  6803., 19838.,  8856., 13648.,  8980.,  8952.,\n",
              "       29638., 12104., 14043., 14084., 10352., 11406.,  6884., 13637.,\n",
              "       13728., 14432., 22883., 22296., 23064., 22263., 11411., 13866.,\n",
              "       16138.,  9330., 12523., 16115., 17584., 10984., 12362., 13208.,\n",
              "       17144.,  9803.,  7598., 10872.,  8089., 36109., 30439., 14524.,\n",
              "       10663.,  8809., 25068., 17076., 37518., 35358.,  7435., 13176.,\n",
              "        5383., 32353., 18946., 10198.,  9229., 29140.,  8500.,  7097.,\n",
              "        8690., 29308., 10130., 17422.,  6672., 14944., 11708., 11854.,\n",
              "       10676., 12650.,  8327., 16645., 26816., 11773.,  5716.,  8226.,\n",
              "       28983., 12553.,  6361., 10402., 15962.,  5101., 22949.,  7376.,\n",
              "       12402., 16879., 13614., 30854., 15879., 19943., 35333., 45720.,\n",
              "        8200., 22746., 17516., 32566., 29089., 28354., 14931., 28993.,\n",
              "       18595., 24938.,  7724., 16223., 30104.,  9521., 11121., 15088.,\n",
              "       22924., 35264., 16179.,  8693., 21580., 27419., 23728.,  9450.,\n",
              "       18029.,  6720., 16366., 16652., 10180., 12112., 23439., 13257.,\n",
              "       26540.,  7846.,  5145.,  6956., 25111., 28596., 18919., 11479.,\n",
              "       22505., 20521.,  6214., 15967., 12046., 29653., 17035., 28104.,\n",
              "       22616.,  8566.,  5454., 11731.,  3125., 26926., 20705., 11738.,\n",
              "       18640., 13560., 17654.,  8743., 27557., 14588., 12196.,  5838.,\n",
              "       20936., 16226., 20981.,  5595., 12152., 19000., 15372., 24130.,\n",
              "       17609.,  6860., 13283., 17520., 19812., 10344.,  7404.])"
            ]
          },
          "metadata": {
            "tags": []
          },
          "execution_count": 64
        }
      ]
    },
    {
      "cell_type": "code",
      "metadata": {
        "id": "lGRU8uvhiMvF"
      },
      "source": [
        "# Creating the sequential instance\n",
        "ann = Sequential()\n",
        "\n",
        "# Creating 1st hidden layer\n",
        "ann.add(Dense(20 , activation = \"relu\"))\n",
        "\n",
        "# Creating 2nd hidden layer\n",
        "ann.add(Dense(20 , activation = \"relu\"))\n",
        "\n",
        "# Creating 3rd hidden layer\n",
        "ann.add(Dense(10 , activation = \"relu\"))\n",
        "\n",
        "# Creating output layer\n",
        "ann.add(Dense(1 , activation = \"linear\"))"
      ],
      "execution_count": 65,
      "outputs": []
    },
    {
      "cell_type": "code",
      "metadata": {
        "id": "OpWR7EZbiMsr"
      },
      "source": [
        "# Compling the model\n",
        "ann.compile(optimizer = \"adam\" , loss = \"mean_squared_error\" , metrics = \"mean_squared_logarithmic_error\")"
      ],
      "execution_count": 66,
      "outputs": []
    },
    {
      "cell_type": "markdown",
      "metadata": {
        "id": "ikEUjG0al-xA"
      },
      "source": [
        "### Fitting and Training the model and storing the metrics in variable"
      ]
    },
    {
      "cell_type": "code",
      "metadata": {
        "colab": {
          "base_uri": "https://localhost:8080/"
        },
        "id": "6KjUnAn8iMpO",
        "outputId": "a2a28314-4114-4ff3-bc7e-93618c8700ae"
      },
      "source": [
        "# Fitting and Training the model\n",
        "tf.random.set_seed(42)\n",
        "h = ann.fit(X_train , y_train , validation_split = 0.1 , epochs = 150 , shuffle = True)"
      ],
      "execution_count": 67,
      "outputs": [
        {
          "output_type": "stream",
          "text": [
            "Epoch 1/150\n",
            "25/25 [==============================] - 2s 24ms/step - loss: 340572142.7692 - mean_squared_logarithmic_error: 89.6994 - val_loss: 380329408.0000 - val_mean_squared_logarithmic_error: 86.8935\n",
            "Epoch 2/150\n",
            "25/25 [==============================] - 0s 4ms/step - loss: 343935005.5385 - mean_squared_logarithmic_error: 83.6405 - val_loss: 380299424.0000 - val_mean_squared_logarithmic_error: 78.7882\n",
            "Epoch 3/150\n",
            "25/25 [==============================] - 0s 4ms/step - loss: 356717427.6923 - mean_squared_logarithmic_error: 75.5919 - val_loss: 380230592.0000 - val_mean_squared_logarithmic_error: 68.4750\n",
            "Epoch 4/150\n",
            "25/25 [==============================] - 0s 4ms/step - loss: 344694462.7692 - mean_squared_logarithmic_error: 64.7683 - val_loss: 380086304.0000 - val_mean_squared_logarithmic_error: 57.8218\n",
            "Epoch 5/150\n",
            "25/25 [==============================] - 0s 3ms/step - loss: 333830611.6923 - mean_squared_logarithmic_error: 54.2508 - val_loss: 379794016.0000 - val_mean_squared_logarithmic_error: 47.7644\n",
            "Epoch 6/150\n",
            "25/25 [==============================] - 0s 4ms/step - loss: 349941588.9231 - mean_squared_logarithmic_error: 44.8613 - val_loss: 379241216.0000 - val_mean_squared_logarithmic_error: 39.0076\n",
            "Epoch 7/150\n",
            "25/25 [==============================] - 0s 4ms/step - loss: 318125033.8462 - mean_squared_logarithmic_error: 36.4152 - val_loss: 378253984.0000 - val_mean_squared_logarithmic_error: 31.5873\n",
            "Epoch 8/150\n",
            "25/25 [==============================] - 0s 3ms/step - loss: 323592027.0769 - mean_squared_logarithmic_error: 29.2472 - val_loss: 376535008.0000 - val_mean_squared_logarithmic_error: 25.2931\n",
            "Epoch 9/150\n",
            "25/25 [==============================] - 0s 3ms/step - loss: 337077009.2308 - mean_squared_logarithmic_error: 23.5553 - val_loss: 373842048.0000 - val_mean_squared_logarithmic_error: 20.2613\n",
            "Epoch 10/150\n",
            "25/25 [==============================] - 0s 4ms/step - loss: 336250990.7692 - mean_squared_logarithmic_error: 19.0053 - val_loss: 369772832.0000 - val_mean_squared_logarithmic_error: 16.1584\n",
            "Epoch 11/150\n",
            "25/25 [==============================] - 0s 4ms/step - loss: 353480648.6154 - mean_squared_logarithmic_error: 15.2009 - val_loss: 364149888.0000 - val_mean_squared_logarithmic_error: 12.9233\n",
            "Epoch 12/150\n",
            "25/25 [==============================] - 0s 3ms/step - loss: 336838300.3077 - mean_squared_logarithmic_error: 12.0707 - val_loss: 356466656.0000 - val_mean_squared_logarithmic_error: 10.2782\n",
            "Epoch 13/150\n",
            "25/25 [==============================] - 0s 3ms/step - loss: 309549996.3077 - mean_squared_logarithmic_error: 9.4253 - val_loss: 346380768.0000 - val_mean_squared_logarithmic_error: 8.1325\n",
            "Epoch 14/150\n",
            "25/25 [==============================] - 0s 3ms/step - loss: 295732458.4615 - mean_squared_logarithmic_error: 7.5233 - val_loss: 333825920.0000 - val_mean_squared_logarithmic_error: 6.4152\n",
            "Epoch 15/150\n",
            "25/25 [==============================] - 0s 4ms/step - loss: 280982477.5385 - mean_squared_logarithmic_error: 5.7653 - val_loss: 318843424.0000 - val_mean_squared_logarithmic_error: 5.0431\n",
            "Epoch 16/150\n",
            "25/25 [==============================] - 0s 4ms/step - loss: 265030137.2308 - mean_squared_logarithmic_error: 4.6101 - val_loss: 301309184.0000 - val_mean_squared_logarithmic_error: 3.9412\n",
            "Epoch 17/150\n",
            "25/25 [==============================] - 0s 4ms/step - loss: 253614816.0000 - mean_squared_logarithmic_error: 3.5743 - val_loss: 280988896.0000 - val_mean_squared_logarithmic_error: 3.0465\n",
            "Epoch 18/150\n",
            "25/25 [==============================] - 0s 4ms/step - loss: 253415072.6154 - mean_squared_logarithmic_error: 2.7676 - val_loss: 257729392.0000 - val_mean_squared_logarithmic_error: 2.3145\n",
            "Epoch 19/150\n",
            "25/25 [==============================] - 0s 4ms/step - loss: 226897200.6154 - mean_squared_logarithmic_error: 2.1275 - val_loss: 234390784.0000 - val_mean_squared_logarithmic_error: 1.7728\n",
            "Epoch 20/150\n",
            "25/25 [==============================] - 0s 3ms/step - loss: 229142551.3846 - mean_squared_logarithmic_error: 1.6375 - val_loss: 209221696.0000 - val_mean_squared_logarithmic_error: 1.3349\n",
            "Epoch 21/150\n",
            "25/25 [==============================] - 0s 3ms/step - loss: 176744291.6923 - mean_squared_logarithmic_error: 1.1980 - val_loss: 184534512.0000 - val_mean_squared_logarithmic_error: 1.0052\n",
            "Epoch 22/150\n",
            "25/25 [==============================] - 0s 4ms/step - loss: 162850170.4615 - mean_squared_logarithmic_error: 0.9235 - val_loss: 160372240.0000 - val_mean_squared_logarithmic_error: 0.7539\n",
            "Epoch 23/150\n",
            "25/25 [==============================] - 0s 3ms/step - loss: 140906714.4615 - mean_squared_logarithmic_error: 0.7061 - val_loss: 136623680.0000 - val_mean_squared_logarithmic_error: 0.5613\n",
            "Epoch 24/150\n",
            "25/25 [==============================] - 0s 4ms/step - loss: 127573985.2308 - mean_squared_logarithmic_error: 0.5408 - val_loss: 118058888.0000 - val_mean_squared_logarithmic_error: 0.4405\n",
            "Epoch 25/150\n",
            "25/25 [==============================] - 0s 4ms/step - loss: 108709013.5385 - mean_squared_logarithmic_error: 0.4609 - val_loss: 102301888.0000 - val_mean_squared_logarithmic_error: 0.3568\n",
            "Epoch 26/150\n",
            "25/25 [==============================] - 0s 3ms/step - loss: 98133120.0000 - mean_squared_logarithmic_error: 0.3780 - val_loss: 89365352.0000 - val_mean_squared_logarithmic_error: 0.3003\n",
            "Epoch 27/150\n",
            "25/25 [==============================] - 0s 4ms/step - loss: 84568974.4615 - mean_squared_logarithmic_error: 0.3281 - val_loss: 79407176.0000 - val_mean_squared_logarithmic_error: 0.2648\n",
            "Epoch 28/150\n",
            "25/25 [==============================] - 0s 4ms/step - loss: 74690414.4615 - mean_squared_logarithmic_error: 0.3156 - val_loss: 72814696.0000 - val_mean_squared_logarithmic_error: 0.2456\n",
            "Epoch 29/150\n",
            "25/25 [==============================] - 0s 3ms/step - loss: 72522869.2308 - mean_squared_logarithmic_error: 0.2952 - val_loss: 67770808.0000 - val_mean_squared_logarithmic_error: 0.2340\n",
            "Epoch 30/150\n",
            "25/25 [==============================] - 0s 3ms/step - loss: 67485654.1538 - mean_squared_logarithmic_error: 0.2988 - val_loss: 65078104.0000 - val_mean_squared_logarithmic_error: 0.2288\n",
            "Epoch 31/150\n",
            "25/25 [==============================] - 0s 4ms/step - loss: 68155982.3077 - mean_squared_logarithmic_error: 0.3020 - val_loss: 62134260.0000 - val_mean_squared_logarithmic_error: 0.2251\n",
            "Epoch 32/150\n",
            "25/25 [==============================] - 0s 4ms/step - loss: 69833542.0000 - mean_squared_logarithmic_error: 0.3097 - val_loss: 60734296.0000 - val_mean_squared_logarithmic_error: 0.2236\n",
            "Epoch 33/150\n",
            "25/25 [==============================] - 0s 4ms/step - loss: 66695253.0769 - mean_squared_logarithmic_error: 0.2964 - val_loss: 59754020.0000 - val_mean_squared_logarithmic_error: 0.2222\n",
            "Epoch 34/150\n",
            "25/25 [==============================] - 0s 4ms/step - loss: 78757752.1538 - mean_squared_logarithmic_error: 0.3158 - val_loss: 58877916.0000 - val_mean_squared_logarithmic_error: 0.2212\n",
            "Epoch 35/150\n",
            "25/25 [==============================] - 0s 3ms/step - loss: 68255580.3077 - mean_squared_logarithmic_error: 0.3281 - val_loss: 58419760.0000 - val_mean_squared_logarithmic_error: 0.2196\n",
            "Epoch 36/150\n",
            "25/25 [==============================] - 0s 3ms/step - loss: 65331624.6154 - mean_squared_logarithmic_error: 0.2867 - val_loss: 57708144.0000 - val_mean_squared_logarithmic_error: 0.2184\n",
            "Epoch 37/150\n",
            "25/25 [==============================] - 0s 4ms/step - loss: 67077920.4615 - mean_squared_logarithmic_error: 0.2965 - val_loss: 57266104.0000 - val_mean_squared_logarithmic_error: 0.2169\n",
            "Epoch 38/150\n",
            "25/25 [==============================] - 0s 3ms/step - loss: 69298677.8462 - mean_squared_logarithmic_error: 0.3074 - val_loss: 56733452.0000 - val_mean_squared_logarithmic_error: 0.2159\n",
            "Epoch 39/150\n",
            "25/25 [==============================] - 0s 3ms/step - loss: 66930210.4615 - mean_squared_logarithmic_error: 0.3069 - val_loss: 56495212.0000 - val_mean_squared_logarithmic_error: 0.2140\n",
            "Epoch 40/150\n",
            "25/25 [==============================] - 0s 4ms/step - loss: 65563967.0769 - mean_squared_logarithmic_error: 0.2958 - val_loss: 55953004.0000 - val_mean_squared_logarithmic_error: 0.2132\n",
            "Epoch 41/150\n",
            "25/25 [==============================] - 0s 4ms/step - loss: 65594376.1538 - mean_squared_logarithmic_error: 0.3093 - val_loss: 55652204.0000 - val_mean_squared_logarithmic_error: 0.2116\n",
            "Epoch 42/150\n",
            "25/25 [==============================] - 0s 3ms/step - loss: 62275466.4615 - mean_squared_logarithmic_error: 0.2865 - val_loss: 55450368.0000 - val_mean_squared_logarithmic_error: 0.2100\n",
            "Epoch 43/150\n",
            "25/25 [==============================] - 0s 4ms/step - loss: 62906183.5385 - mean_squared_logarithmic_error: 0.2929 - val_loss: 55406472.0000 - val_mean_squared_logarithmic_error: 0.2082\n",
            "Epoch 44/150\n",
            "25/25 [==============================] - 0s 3ms/step - loss: 61268028.4615 - mean_squared_logarithmic_error: 0.2669 - val_loss: 54837988.0000 - val_mean_squared_logarithmic_error: 0.2075\n",
            "Epoch 45/150\n",
            "25/25 [==============================] - 0s 4ms/step - loss: 58759428.0000 - mean_squared_logarithmic_error: 0.2849 - val_loss: 54454040.0000 - val_mean_squared_logarithmic_error: 0.2066\n",
            "Epoch 46/150\n",
            "25/25 [==============================] - 0s 3ms/step - loss: 56332624.6154 - mean_squared_logarithmic_error: 0.2708 - val_loss: 54120460.0000 - val_mean_squared_logarithmic_error: 0.2062\n",
            "Epoch 47/150\n",
            "25/25 [==============================] - 0s 4ms/step - loss: 56712373.0769 - mean_squared_logarithmic_error: 0.2837 - val_loss: 53697976.0000 - val_mean_squared_logarithmic_error: 0.2056\n",
            "Epoch 48/150\n",
            "25/25 [==============================] - 0s 4ms/step - loss: 55993868.9231 - mean_squared_logarithmic_error: 0.2634 - val_loss: 53201520.0000 - val_mean_squared_logarithmic_error: 0.2053\n",
            "Epoch 49/150\n",
            "25/25 [==============================] - 0s 3ms/step - loss: 59752061.2308 - mean_squared_logarithmic_error: 0.2828 - val_loss: 52933416.0000 - val_mean_squared_logarithmic_error: 0.2043\n",
            "Epoch 50/150\n",
            "25/25 [==============================] - 0s 4ms/step - loss: 64306528.1538 - mean_squared_logarithmic_error: 0.2974 - val_loss: 52651480.0000 - val_mean_squared_logarithmic_error: 0.2034\n",
            "Epoch 51/150\n",
            "25/25 [==============================] - 0s 4ms/step - loss: 63234897.8462 - mean_squared_logarithmic_error: 0.3045 - val_loss: 52516592.0000 - val_mean_squared_logarithmic_error: 0.2024\n",
            "Epoch 52/150\n",
            "25/25 [==============================] - 0s 3ms/step - loss: 60353802.1538 - mean_squared_logarithmic_error: 0.2987 - val_loss: 52459640.0000 - val_mean_squared_logarithmic_error: 0.2010\n",
            "Epoch 53/150\n",
            "25/25 [==============================] - 0s 4ms/step - loss: 56874315.2308 - mean_squared_logarithmic_error: 0.2760 - val_loss: 52182824.0000 - val_mean_squared_logarithmic_error: 0.2010\n",
            "Epoch 54/150\n",
            "25/25 [==============================] - 0s 3ms/step - loss: 58912419.6923 - mean_squared_logarithmic_error: 0.2841 - val_loss: 52235448.0000 - val_mean_squared_logarithmic_error: 0.1995\n",
            "Epoch 55/150\n",
            "25/25 [==============================] - 0s 4ms/step - loss: 55798987.8462 - mean_squared_logarithmic_error: 0.2795 - val_loss: 51759016.0000 - val_mean_squared_logarithmic_error: 0.1995\n",
            "Epoch 56/150\n",
            "25/25 [==============================] - 0s 4ms/step - loss: 56590730.3077 - mean_squared_logarithmic_error: 0.2728 - val_loss: 51743880.0000 - val_mean_squared_logarithmic_error: 0.1985\n",
            "Epoch 57/150\n",
            "25/25 [==============================] - 0s 4ms/step - loss: 57113998.9231 - mean_squared_logarithmic_error: 0.2758 - val_loss: 51976304.0000 - val_mean_squared_logarithmic_error: 0.1974\n",
            "Epoch 58/150\n",
            "25/25 [==============================] - 0s 5ms/step - loss: 56300820.4615 - mean_squared_logarithmic_error: 0.2565 - val_loss: 51847120.0000 - val_mean_squared_logarithmic_error: 0.1967\n",
            "Epoch 59/150\n",
            "25/25 [==============================] - 0s 5ms/step - loss: 52986216.9231 - mean_squared_logarithmic_error: 0.2683 - val_loss: 51573908.0000 - val_mean_squared_logarithmic_error: 0.1964\n",
            "Epoch 60/150\n",
            "25/25 [==============================] - 0s 3ms/step - loss: 59055799.0769 - mean_squared_logarithmic_error: 0.2682 - val_loss: 51749692.0000 - val_mean_squared_logarithmic_error: 0.1958\n",
            "Epoch 61/150\n",
            "25/25 [==============================] - 0s 3ms/step - loss: 57616205.0769 - mean_squared_logarithmic_error: 0.2673 - val_loss: 51759700.0000 - val_mean_squared_logarithmic_error: 0.1952\n",
            "Epoch 62/150\n",
            "25/25 [==============================] - 0s 3ms/step - loss: 59182732.6154 - mean_squared_logarithmic_error: 0.2484 - val_loss: 51348160.0000 - val_mean_squared_logarithmic_error: 0.1950\n",
            "Epoch 63/150\n",
            "25/25 [==============================] - 0s 4ms/step - loss: 54251530.1538 - mean_squared_logarithmic_error: 0.2769 - val_loss: 51125016.0000 - val_mean_squared_logarithmic_error: 0.1951\n",
            "Epoch 64/150\n",
            "25/25 [==============================] - 0s 3ms/step - loss: 53183286.3077 - mean_squared_logarithmic_error: 0.2587 - val_loss: 50880528.0000 - val_mean_squared_logarithmic_error: 0.1949\n",
            "Epoch 65/150\n",
            "25/25 [==============================] - 0s 4ms/step - loss: 52324799.0769 - mean_squared_logarithmic_error: 0.2570 - val_loss: 50571824.0000 - val_mean_squared_logarithmic_error: 0.1951\n",
            "Epoch 66/150\n",
            "25/25 [==============================] - 0s 4ms/step - loss: 54409899.5385 - mean_squared_logarithmic_error: 0.2765 - val_loss: 50925448.0000 - val_mean_squared_logarithmic_error: 0.1940\n",
            "Epoch 67/150\n",
            "25/25 [==============================] - 0s 4ms/step - loss: 53103534.4615 - mean_squared_logarithmic_error: 0.2626 - val_loss: 50217860.0000 - val_mean_squared_logarithmic_error: 0.1945\n",
            "Epoch 68/150\n",
            "25/25 [==============================] - 0s 4ms/step - loss: 55248216.6154 - mean_squared_logarithmic_error: 0.2518 - val_loss: 50304820.0000 - val_mean_squared_logarithmic_error: 0.1937\n",
            "Epoch 69/150\n",
            "25/25 [==============================] - 0s 4ms/step - loss: 52764938.4615 - mean_squared_logarithmic_error: 0.2488 - val_loss: 50077468.0000 - val_mean_squared_logarithmic_error: 0.1937\n",
            "Epoch 70/150\n",
            "25/25 [==============================] - 0s 4ms/step - loss: 50948304.9231 - mean_squared_logarithmic_error: 0.2589 - val_loss: 49837316.0000 - val_mean_squared_logarithmic_error: 0.1935\n",
            "Epoch 71/150\n",
            "25/25 [==============================] - 0s 4ms/step - loss: 53063699.5385 - mean_squared_logarithmic_error: 0.2597 - val_loss: 49789656.0000 - val_mean_squared_logarithmic_error: 0.1932\n",
            "Epoch 72/150\n",
            "25/25 [==============================] - 0s 4ms/step - loss: 54410317.2308 - mean_squared_logarithmic_error: 0.2509 - val_loss: 49709632.0000 - val_mean_squared_logarithmic_error: 0.1929\n",
            "Epoch 73/150\n",
            "25/25 [==============================] - 0s 3ms/step - loss: 57241295.3846 - mean_squared_logarithmic_error: 0.2635 - val_loss: 49745460.0000 - val_mean_squared_logarithmic_error: 0.1924\n",
            "Epoch 74/150\n",
            "25/25 [==============================] - 0s 4ms/step - loss: 51512172.7692 - mean_squared_logarithmic_error: 0.2467 - val_loss: 50132336.0000 - val_mean_squared_logarithmic_error: 0.1915\n",
            "Epoch 75/150\n",
            "25/25 [==============================] - 0s 4ms/step - loss: 54021886.7692 - mean_squared_logarithmic_error: 0.2402 - val_loss: 50089876.0000 - val_mean_squared_logarithmic_error: 0.1912\n",
            "Epoch 76/150\n",
            "25/25 [==============================] - 0s 4ms/step - loss: 53202563.2308 - mean_squared_logarithmic_error: 0.2542 - val_loss: 50149696.0000 - val_mean_squared_logarithmic_error: 0.1907\n",
            "Epoch 77/150\n",
            "25/25 [==============================] - 0s 4ms/step - loss: 51351449.2308 - mean_squared_logarithmic_error: 0.2601 - val_loss: 49795192.0000 - val_mean_squared_logarithmic_error: 0.1907\n",
            "Epoch 78/150\n",
            "25/25 [==============================] - 0s 3ms/step - loss: 51841024.7692 - mean_squared_logarithmic_error: 0.2529 - val_loss: 49081588.0000 - val_mean_squared_logarithmic_error: 0.1918\n",
            "Epoch 79/150\n",
            "25/25 [==============================] - 0s 4ms/step - loss: 49829696.4615 - mean_squared_logarithmic_error: 0.2610 - val_loss: 49008772.0000 - val_mean_squared_logarithmic_error: 0.1915\n",
            "Epoch 80/150\n",
            "25/25 [==============================] - 0s 4ms/step - loss: 50272998.7692 - mean_squared_logarithmic_error: 0.2539 - val_loss: 48965148.0000 - val_mean_squared_logarithmic_error: 0.1918\n",
            "Epoch 81/150\n",
            "25/25 [==============================] - 0s 4ms/step - loss: 54596863.2308 - mean_squared_logarithmic_error: 0.2595 - val_loss: 49009716.0000 - val_mean_squared_logarithmic_error: 0.1916\n",
            "Epoch 82/150\n",
            "25/25 [==============================] - 0s 4ms/step - loss: 53028313.5385 - mean_squared_logarithmic_error: 0.2525 - val_loss: 49193124.0000 - val_mean_squared_logarithmic_error: 0.1912\n",
            "Epoch 83/150\n",
            "25/25 [==============================] - 0s 4ms/step - loss: 49600778.3077 - mean_squared_logarithmic_error: 0.2544 - val_loss: 49591864.0000 - val_mean_squared_logarithmic_error: 0.1906\n",
            "Epoch 84/150\n",
            "25/25 [==============================] - 0s 3ms/step - loss: 55067014.4615 - mean_squared_logarithmic_error: 0.2645 - val_loss: 49285020.0000 - val_mean_squared_logarithmic_error: 0.1908\n",
            "Epoch 85/150\n",
            "25/25 [==============================] - 0s 4ms/step - loss: 50009729.3846 - mean_squared_logarithmic_error: 0.2507 - val_loss: 49493880.0000 - val_mean_squared_logarithmic_error: 0.1900\n",
            "Epoch 86/150\n",
            "25/25 [==============================] - 0s 4ms/step - loss: 49651581.2308 - mean_squared_logarithmic_error: 0.2398 - val_loss: 49368652.0000 - val_mean_squared_logarithmic_error: 0.1901\n",
            "Epoch 87/150\n",
            "25/25 [==============================] - 0s 4ms/step - loss: 48640967.3846 - mean_squared_logarithmic_error: 0.2470 - val_loss: 49917656.0000 - val_mean_squared_logarithmic_error: 0.1896\n",
            "Epoch 88/150\n",
            "25/25 [==============================] - 0s 3ms/step - loss: 54541731.6923 - mean_squared_logarithmic_error: 0.2564 - val_loss: 49401052.0000 - val_mean_squared_logarithmic_error: 0.1900\n",
            "Epoch 89/150\n",
            "25/25 [==============================] - 0s 4ms/step - loss: 48224348.1538 - mean_squared_logarithmic_error: 0.2603 - val_loss: 49730456.0000 - val_mean_squared_logarithmic_error: 0.1895\n",
            "Epoch 90/150\n",
            "25/25 [==============================] - 0s 4ms/step - loss: 55222964.1538 - mean_squared_logarithmic_error: 0.2622 - val_loss: 49503940.0000 - val_mean_squared_logarithmic_error: 0.1899\n",
            "Epoch 91/150\n",
            "25/25 [==============================] - 0s 4ms/step - loss: 52175594.4615 - mean_squared_logarithmic_error: 0.2577 - val_loss: 49468000.0000 - val_mean_squared_logarithmic_error: 0.1900\n",
            "Epoch 92/150\n",
            "25/25 [==============================] - 0s 4ms/step - loss: 51404716.0000 - mean_squared_logarithmic_error: 0.2458 - val_loss: 49212132.0000 - val_mean_squared_logarithmic_error: 0.1903\n",
            "Epoch 93/150\n",
            "25/25 [==============================] - 0s 4ms/step - loss: 51787990.6154 - mean_squared_logarithmic_error: 0.2561 - val_loss: 49028876.0000 - val_mean_squared_logarithmic_error: 0.1903\n",
            "Epoch 94/150\n",
            "25/25 [==============================] - 0s 4ms/step - loss: 51231296.0000 - mean_squared_logarithmic_error: 0.2511 - val_loss: 49519888.0000 - val_mean_squared_logarithmic_error: 0.1895\n",
            "Epoch 95/150\n",
            "25/25 [==============================] - 0s 4ms/step - loss: 53601238.6154 - mean_squared_logarithmic_error: 0.2514 - val_loss: 49219396.0000 - val_mean_squared_logarithmic_error: 0.1898\n",
            "Epoch 96/150\n",
            "25/25 [==============================] - 0s 3ms/step - loss: 53922423.8462 - mean_squared_logarithmic_error: 0.2580 - val_loss: 49048476.0000 - val_mean_squared_logarithmic_error: 0.1901\n",
            "Epoch 97/150\n",
            "25/25 [==============================] - 0s 4ms/step - loss: 52034490.3077 - mean_squared_logarithmic_error: 0.2633 - val_loss: 48785204.0000 - val_mean_squared_logarithmic_error: 0.1908\n",
            "Epoch 98/150\n",
            "25/25 [==============================] - 0s 4ms/step - loss: 52992409.3846 - mean_squared_logarithmic_error: 0.2687 - val_loss: 48933412.0000 - val_mean_squared_logarithmic_error: 0.1903\n",
            "Epoch 99/150\n",
            "25/25 [==============================] - 0s 4ms/step - loss: 52615165.2308 - mean_squared_logarithmic_error: 0.2553 - val_loss: 48801024.0000 - val_mean_squared_logarithmic_error: 0.1905\n",
            "Epoch 100/150\n",
            "25/25 [==============================] - 0s 4ms/step - loss: 53998833.0769 - mean_squared_logarithmic_error: 0.2512 - val_loss: 48701076.0000 - val_mean_squared_logarithmic_error: 0.1907\n",
            "Epoch 101/150\n",
            "25/25 [==============================] - 0s 4ms/step - loss: 49554381.6923 - mean_squared_logarithmic_error: 0.2444 - val_loss: 48987292.0000 - val_mean_squared_logarithmic_error: 0.1898\n",
            "Epoch 102/150\n",
            "25/25 [==============================] - 0s 4ms/step - loss: 50682603.2308 - mean_squared_logarithmic_error: 0.2594 - val_loss: 48550192.0000 - val_mean_squared_logarithmic_error: 0.1908\n",
            "Epoch 103/150\n",
            "25/25 [==============================] - 0s 4ms/step - loss: 51571221.3846 - mean_squared_logarithmic_error: 0.2628 - val_loss: 48842348.0000 - val_mean_squared_logarithmic_error: 0.1897\n",
            "Epoch 104/150\n",
            "25/25 [==============================] - 0s 4ms/step - loss: 53908331.0769 - mean_squared_logarithmic_error: 0.2472 - val_loss: 49132608.0000 - val_mean_squared_logarithmic_error: 0.1893\n",
            "Epoch 105/150\n",
            "25/25 [==============================] - 0s 4ms/step - loss: 53334022.1538 - mean_squared_logarithmic_error: 0.2708 - val_loss: 49136796.0000 - val_mean_squared_logarithmic_error: 0.1893\n",
            "Epoch 106/150\n",
            "25/25 [==============================] - 0s 4ms/step - loss: 52539075.0769 - mean_squared_logarithmic_error: 0.2424 - val_loss: 48812924.0000 - val_mean_squared_logarithmic_error: 0.1901\n",
            "Epoch 107/150\n",
            "25/25 [==============================] - 0s 4ms/step - loss: 52277818.0000 - mean_squared_logarithmic_error: 0.2645 - val_loss: 49138236.0000 - val_mean_squared_logarithmic_error: 0.1895\n",
            "Epoch 108/150\n",
            "25/25 [==============================] - 0s 3ms/step - loss: 49549781.6923 - mean_squared_logarithmic_error: 0.2481 - val_loss: 49247740.0000 - val_mean_squared_logarithmic_error: 0.1894\n",
            "Epoch 109/150\n",
            "25/25 [==============================] - 0s 4ms/step - loss: 51680780.9231 - mean_squared_logarithmic_error: 0.2395 - val_loss: 49104192.0000 - val_mean_squared_logarithmic_error: 0.1899\n",
            "Epoch 110/150\n",
            "25/25 [==============================] - 0s 4ms/step - loss: 55611990.3077 - mean_squared_logarithmic_error: 0.2584 - val_loss: 49208336.0000 - val_mean_squared_logarithmic_error: 0.1900\n",
            "Epoch 111/150\n",
            "25/25 [==============================] - 0s 3ms/step - loss: 50919920.9231 - mean_squared_logarithmic_error: 0.2588 - val_loss: 49468572.0000 - val_mean_squared_logarithmic_error: 0.1897\n",
            "Epoch 112/150\n",
            "25/25 [==============================] - 0s 4ms/step - loss: 54131471.2308 - mean_squared_logarithmic_error: 0.2607 - val_loss: 49541696.0000 - val_mean_squared_logarithmic_error: 0.1895\n",
            "Epoch 113/150\n",
            "25/25 [==============================] - 0s 4ms/step - loss: 51279204.1538 - mean_squared_logarithmic_error: 0.2556 - val_loss: 49705180.0000 - val_mean_squared_logarithmic_error: 0.1894\n",
            "Epoch 114/150\n",
            "25/25 [==============================] - 0s 4ms/step - loss: 53940515.0769 - mean_squared_logarithmic_error: 0.2653 - val_loss: 49637120.0000 - val_mean_squared_logarithmic_error: 0.1895\n",
            "Epoch 115/150\n",
            "25/25 [==============================] - 0s 3ms/step - loss: 50455533.6923 - mean_squared_logarithmic_error: 0.2528 - val_loss: 49637508.0000 - val_mean_squared_logarithmic_error: 0.1894\n",
            "Epoch 116/150\n",
            "25/25 [==============================] - 0s 3ms/step - loss: 51983776.1538 - mean_squared_logarithmic_error: 0.2749 - val_loss: 48774792.0000 - val_mean_squared_logarithmic_error: 0.1904\n",
            "Epoch 117/150\n",
            "25/25 [==============================] - 0s 3ms/step - loss: 52024105.3846 - mean_squared_logarithmic_error: 0.2692 - val_loss: 48952204.0000 - val_mean_squared_logarithmic_error: 0.1899\n",
            "Epoch 118/150\n",
            "25/25 [==============================] - 0s 4ms/step - loss: 54361620.3077 - mean_squared_logarithmic_error: 0.2639 - val_loss: 49125092.0000 - val_mean_squared_logarithmic_error: 0.1898\n",
            "Epoch 119/150\n",
            "25/25 [==============================] - 0s 4ms/step - loss: 46635929.6923 - mean_squared_logarithmic_error: 0.2406 - val_loss: 49293236.0000 - val_mean_squared_logarithmic_error: 0.1898\n",
            "Epoch 120/150\n",
            "25/25 [==============================] - 0s 3ms/step - loss: 46854924.9231 - mean_squared_logarithmic_error: 0.2418 - val_loss: 50205332.0000 - val_mean_squared_logarithmic_error: 0.1891\n",
            "Epoch 121/150\n",
            "25/25 [==============================] - 0s 4ms/step - loss: 54996469.8462 - mean_squared_logarithmic_error: 0.2612 - val_loss: 49779820.0000 - val_mean_squared_logarithmic_error: 0.1893\n",
            "Epoch 122/150\n",
            "25/25 [==============================] - 0s 4ms/step - loss: 51148135.0769 - mean_squared_logarithmic_error: 0.2493 - val_loss: 49523752.0000 - val_mean_squared_logarithmic_error: 0.1896\n",
            "Epoch 123/150\n",
            "25/25 [==============================] - 0s 4ms/step - loss: 48623901.5385 - mean_squared_logarithmic_error: 0.2380 - val_loss: 49962120.0000 - val_mean_squared_logarithmic_error: 0.1894\n",
            "Epoch 124/150\n",
            "25/25 [==============================] - 0s 4ms/step - loss: 51557815.3846 - mean_squared_logarithmic_error: 0.2426 - val_loss: 49871612.0000 - val_mean_squared_logarithmic_error: 0.1894\n",
            "Epoch 125/150\n",
            "25/25 [==============================] - 0s 4ms/step - loss: 48512642.6154 - mean_squared_logarithmic_error: 0.2374 - val_loss: 49642472.0000 - val_mean_squared_logarithmic_error: 0.1896\n",
            "Epoch 126/150\n",
            "25/25 [==============================] - 0s 4ms/step - loss: 51239378.7692 - mean_squared_logarithmic_error: 0.2559 - val_loss: 49681520.0000 - val_mean_squared_logarithmic_error: 0.1897\n",
            "Epoch 127/150\n",
            "25/25 [==============================] - 0s 4ms/step - loss: 49367410.3077 - mean_squared_logarithmic_error: 0.2567 - val_loss: 49774272.0000 - val_mean_squared_logarithmic_error: 0.1894\n",
            "Epoch 128/150\n",
            "25/25 [==============================] - 0s 4ms/step - loss: 49961172.6154 - mean_squared_logarithmic_error: 0.2480 - val_loss: 49573732.0000 - val_mean_squared_logarithmic_error: 0.1896\n",
            "Epoch 129/150\n",
            "25/25 [==============================] - 0s 4ms/step - loss: 50160726.7692 - mean_squared_logarithmic_error: 0.2400 - val_loss: 49528320.0000 - val_mean_squared_logarithmic_error: 0.1896\n",
            "Epoch 130/150\n",
            "25/25 [==============================] - 0s 4ms/step - loss: 50461956.7692 - mean_squared_logarithmic_error: 0.2391 - val_loss: 49779428.0000 - val_mean_squared_logarithmic_error: 0.1892\n",
            "Epoch 131/150\n",
            "25/25 [==============================] - 0s 4ms/step - loss: 50793066.1538 - mean_squared_logarithmic_error: 0.2324 - val_loss: 49619844.0000 - val_mean_squared_logarithmic_error: 0.1893\n",
            "Epoch 132/150\n",
            "25/25 [==============================] - 0s 4ms/step - loss: 51033414.7692 - mean_squared_logarithmic_error: 0.2597 - val_loss: 49615800.0000 - val_mean_squared_logarithmic_error: 0.1894\n",
            "Epoch 133/150\n",
            "25/25 [==============================] - 0s 4ms/step - loss: 50111822.7692 - mean_squared_logarithmic_error: 0.2528 - val_loss: 49326836.0000 - val_mean_squared_logarithmic_error: 0.1896\n",
            "Epoch 134/150\n",
            "25/25 [==============================] - 0s 4ms/step - loss: 48516008.9231 - mean_squared_logarithmic_error: 0.2489 - val_loss: 49381588.0000 - val_mean_squared_logarithmic_error: 0.1894\n",
            "Epoch 135/150\n",
            "25/25 [==============================] - 0s 4ms/step - loss: 53854690.9231 - mean_squared_logarithmic_error: 0.2509 - val_loss: 49705944.0000 - val_mean_squared_logarithmic_error: 0.1892\n",
            "Epoch 136/150\n",
            "25/25 [==============================] - 0s 4ms/step - loss: 53429835.5385 - mean_squared_logarithmic_error: 0.2507 - val_loss: 49590476.0000 - val_mean_squared_logarithmic_error: 0.1893\n",
            "Epoch 137/150\n",
            "25/25 [==============================] - 0s 4ms/step - loss: 51217287.0769 - mean_squared_logarithmic_error: 0.2448 - val_loss: 49580884.0000 - val_mean_squared_logarithmic_error: 0.1893\n",
            "Epoch 138/150\n",
            "25/25 [==============================] - 0s 4ms/step - loss: 51557301.8462 - mean_squared_logarithmic_error: 0.2489 - val_loss: 49679392.0000 - val_mean_squared_logarithmic_error: 0.1891\n",
            "Epoch 139/150\n",
            "25/25 [==============================] - 0s 4ms/step - loss: 51464299.5385 - mean_squared_logarithmic_error: 0.2409 - val_loss: 49720640.0000 - val_mean_squared_logarithmic_error: 0.1891\n",
            "Epoch 140/150\n",
            "25/25 [==============================] - 0s 4ms/step - loss: 50240763.6923 - mean_squared_logarithmic_error: 0.2364 - val_loss: 49419356.0000 - val_mean_squared_logarithmic_error: 0.1890\n",
            "Epoch 141/150\n",
            "25/25 [==============================] - 0s 4ms/step - loss: 50308619.5385 - mean_squared_logarithmic_error: 0.2406 - val_loss: 50047284.0000 - val_mean_squared_logarithmic_error: 0.1888\n",
            "Epoch 142/150\n",
            "25/25 [==============================] - 0s 4ms/step - loss: 54657091.3846 - mean_squared_logarithmic_error: 0.2544 - val_loss: 49830604.0000 - val_mean_squared_logarithmic_error: 0.1888\n",
            "Epoch 143/150\n",
            "25/25 [==============================] - 0s 4ms/step - loss: 54368035.3846 - mean_squared_logarithmic_error: 0.2529 - val_loss: 49753116.0000 - val_mean_squared_logarithmic_error: 0.1891\n",
            "Epoch 144/150\n",
            "25/25 [==============================] - 0s 4ms/step - loss: 49798650.7692 - mean_squared_logarithmic_error: 0.2574 - val_loss: 49640448.0000 - val_mean_squared_logarithmic_error: 0.1891\n",
            "Epoch 145/150\n",
            "25/25 [==============================] - 0s 4ms/step - loss: 48957491.3846 - mean_squared_logarithmic_error: 0.2440 - val_loss: 49586132.0000 - val_mean_squared_logarithmic_error: 0.1889\n",
            "Epoch 146/150\n",
            "25/25 [==============================] - 0s 4ms/step - loss: 53774405.5385 - mean_squared_logarithmic_error: 0.2611 - val_loss: 49701372.0000 - val_mean_squared_logarithmic_error: 0.1887\n",
            "Epoch 147/150\n",
            "25/25 [==============================] - 0s 4ms/step - loss: 52068198.6154 - mean_squared_logarithmic_error: 0.2549 - val_loss: 49320812.0000 - val_mean_squared_logarithmic_error: 0.1891\n",
            "Epoch 148/150\n",
            "25/25 [==============================] - 0s 4ms/step - loss: 50380225.4615 - mean_squared_logarithmic_error: 0.2571 - val_loss: 49078068.0000 - val_mean_squared_logarithmic_error: 0.1891\n",
            "Epoch 149/150\n",
            "25/25 [==============================] - 0s 4ms/step - loss: 49796628.3077 - mean_squared_logarithmic_error: 0.2295 - val_loss: 49283800.0000 - val_mean_squared_logarithmic_error: 0.1887\n",
            "Epoch 150/150\n",
            "25/25 [==============================] - 0s 4ms/step - loss: 49103307.0769 - mean_squared_logarithmic_error: 0.2479 - val_loss: 49277196.0000 - val_mean_squared_logarithmic_error: 0.1887\n"
          ],
          "name": "stdout"
        }
      ]
    },
    {
      "cell_type": "markdown",
      "metadata": {
        "id": "mUciJrMYmo7E"
      },
      "source": [
        "### Plotting the Evaluation metrics and Loss function trends."
      ]
    },
    {
      "cell_type": "code",
      "metadata": {
        "colab": {
          "base_uri": "https://localhost:8080/",
          "height": 279
        },
        "id": "BMmgHOQwiMmO",
        "outputId": "d4ba5e90-5e12-4035-a4d7-a76c57d7cb56"
      },
      "source": [
        "plt.plot(h.history['mean_squared_logarithmic_error'])\n",
        "plt.plot(h.history[\"val_mean_squared_logarithmic_error\"])\n",
        "plt.legend(['mean_squared_logarithmic_error' , \"val_mean_squared_logarithmic_error\"])\n",
        "plt.xlabel('epoch')\n",
        "plt.ylabel('mean_squared_logarithmic_error')\n",
        "plt.show()"
      ],
      "execution_count": 68,
      "outputs": [
        {
          "output_type": "display_data",
          "data": {
            "image/png": "[encoded data removed]",
            "text/plain": [
              "<Figure size 432x288 with 1 Axes>"
            ]
          },
          "metadata": {
            "tags": [],
            "needs_background": "light"
          }
        }
      ]
    },
    {
      "cell_type": "code",
      "metadata": {
        "colab": {
          "base_uri": "https://localhost:8080/",
          "height": 308
        },
        "id": "bUGSNa4pnEfI",
        "outputId": "6c870b62-55f5-4e13-e69a-8ed1c9841f41"
      },
      "source": [
        "plt.plot(h.history['loss'])\n",
        "plt.plot(h.history['val_loss'])\n",
        "plt.legend([\"loss\" , \"val_loss\"])\n",
        "plt.xlabel('epoch')\n",
        "plt.ylabel(\"loss\")"
      ],
      "execution_count": 69,
      "outputs": [
        {
          "output_type": "execute_result",
          "data": {
            "text/plain": [
              "Text(0, 0.5, 'loss')"
            ]
          },
          "metadata": {
            "tags": []
          },
          "execution_count": 69
        },
        {
          "output_type": "display_data",
          "data": {
            "image/png": "[encoded data removed]",
            "text/plain": [
              "<Figure size 432x288 with 1 Axes>"
            ]
          },
          "metadata": {
            "tags": [],
            "needs_background": "light"
          }
        }
      ]
    },
    {
      "cell_type": "markdown",
      "metadata": {
        "id": "DpYTI_JcoJzF"
      },
      "source": [
        "### Evaluating the ANN model on the test set"
      ]
    },
    {
      "cell_type": "code",
      "metadata": {
        "colab": {
          "base_uri": "https://localhost:8080/"
        },
        "id": "eEkqYljGnEbG",
        "outputId": "e1951809-cac8-423f-9466-885a3e377afd"
      },
      "source": [
        "ann_preds = ann.predict(X_test).ravel()\n",
        "ann_preds"
      ],
      "execution_count": 70,
      "outputs": [
        {
          "output_type": "execute_result",
          "data": {
            "text/plain": [
              "array([18664.947 , 22186.666 , 11724.223 ,  3898.7156,  9447.365 ,\n",
              "       11260.776 , 12877.449 , 15107.452 , 18862.646 , 14249.9795,\n",
              "        4391.9907, 14469.504 , 12096.801 , 14066.473 , 14572.97  ,\n",
              "       16626.395 , 15562.    ,  7663.8325, 11593.212 , 11819.076 ,\n",
              "        8767.187 , 12781.132 , 18040.82  , 24616.848 ,  9838.442 ,\n",
              "       11305.289 , 19233.102 , 14274.332 , 19231.701 , 19264.354 ,\n",
              "       18020.525 , 21774.71  , 13229.014 , 11788.511 , 18426.54  ,\n",
              "       20037.24  , 12515.788 , 11970.264 , 18744.957 , 11610.05  ,\n",
              "       12887.968 , 16907.611 , 19380.521 , 16068.302 , 14366.452 ,\n",
              "       14673.035 , 12039.208 ,  9136.755 , 14030.352 , 19098.693 ,\n",
              "       12186.849 , 22165.951 , 18015.953 ,  8378.895 , 17694.453 ,\n",
              "       15963.309 , 13167.217 , 11024.546 , 10986.534 , 13996.225 ,\n",
              "       11501.324 , 16287.49  , 14191.328 , 18206.932 , 17380.773 ,\n",
              "       13998.079 , 12982.641 , 18835.125 , 17756.027 , 11642.057 ,\n",
              "       14442.828 , 19958.822 , 16283.34  , 14752.338 , 15396.395 ,\n",
              "       12830.908 , 13621.288 , 14093.32  , 33477.008 , 17362.207 ,\n",
              "       13427.777 , 13981.498 , 11743.789 , 22497.244 , 12549.681 ,\n",
              "       17231.693 , 10543.321 , 14911.666 , 20457.191 , 18021.076 ,\n",
              "        9750.998 , 10113.98  ,  7285.91  , 11765.742 , 17637.78  ],\n",
              "      dtype=float32)"
            ]
          },
          "metadata": {
            "tags": []
          },
          "execution_count": 70
        }
      ]
    },
    {
      "cell_type": "markdown",
      "metadata": {
        "id": "dtvZV3MTpNG5"
      },
      "source": [
        "### Visualizing the y_true and ann_preds"
      ]
    },
    {
      "cell_type": "code",
      "metadata": {
        "colab": {
          "base_uri": "https://localhost:8080/",
          "height": 265
        },
        "id": "ANOmMHC7pMxs",
        "outputId": "71d30cfd-da4d-49b8-ddc2-3d27bd0de25a"
      },
      "source": [
        "plt.scatter(y_test , ann_preds)\n",
        "x = np.linspace(min(y_test),max(y_test),100)\n",
        "y = x\n",
        "plt.plot(x, y , \"-r\");"
      ],
      "execution_count": 71,
      "outputs": [
        {
          "output_type": "display_data",
          "data": {
            "image/png": "[encoded data removed]",
            "text/plain": [
              "<Figure size 432x288 with 1 Axes>"
            ]
          },
          "metadata": {
            "tags": [],
            "needs_background": "light"
          }
        }
      ]
    },
    {
      "cell_type": "markdown",
      "metadata": {
        "id": "fWp4Vl9VpZwN"
      },
      "source": [
        "### `Mean squared log error` evaluation metrics of XGBRegressor model on test set"
      ]
    },
    {
      "cell_type": "code",
      "metadata": {
        "colab": {
          "base_uri": "https://localhost:8080/"
        },
        "id": "FfYNbwLknEYM",
        "outputId": "23ad9601-0d8b-4a8f-bbe0-65630ab8de0e"
      },
      "source": [
        "ann_score = sklearn.metrics.mean_squared_log_error(y_test , ann_preds)\n",
        "ann_score"
      ],
      "execution_count": 72,
      "outputs": [
        {
          "output_type": "execute_result",
          "data": {
            "text/plain": [
              "0.3065449541826091"
            ]
          },
          "metadata": {
            "tags": []
          },
          "execution_count": 72
        }
      ]
    },
    {
      "cell_type": "markdown",
      "metadata": {
        "id": "5SL_TPR_6VM6"
      },
      "source": [
        "### Comparing the scores of all three models"
      ]
    },
    {
      "cell_type": "code",
      "metadata": {
        "colab": {
          "base_uri": "https://localhost:8080/",
          "height": 164
        },
        "id": "Bky99Wyb6Uh5",
        "outputId": "af7465b4-7236-4432-f883-d316c0fd32a5"
      },
      "source": [
        "scores_data = {\"Model\" : [\"Linear\" , \"Randomforest\" , \"XGB\" , \"ANN\"] ,\n",
        "               \"Score\" : [linear_score , random_score , xgb_score , ann_score]}\n",
        "\n",
        "scores_df = pd.DataFrame(data = scores_data)\n",
        "scores_df"
      ],
      "execution_count": 73,
      "outputs": [
        {
          "output_type": "execute_result",
          "data": {
            "text/html": [
              "<div>\n",
              "<style scoped>\n",
              "    .dataframe tbody tr th:only-of-type {\n",
              "        vertical-align: middle;\n",
              "    }\n",
              "\n",
              "    .dataframe tbody tr th {\n",
              "        vertical-align: top;\n",
              "    }\n",
              "\n",
              "    .dataframe thead th {\n",
              "        text-align: right;\n",
              "    }\n",
              "</style>\n",
              "<table border=\"1\" class=\"dataframe\">\n",
              "  <thead>\n",
              "    <tr style=\"text-align: right;\">\n",
              "      <th></th>\n",
              "      <th>Model</th>\n",
              "      <th>Score</th>\n",
              "    </tr>\n",
              "  </thead>\n",
              "  <tbody>\n",
              "    <tr>\n",
              "      <th>0</th>\n",
              "      <td>Linear</td>\n",
              "      <td>0.281385</td>\n",
              "    </tr>\n",
              "    <tr>\n",
              "      <th>1</th>\n",
              "      <td>Randomforest</td>\n",
              "      <td>0.285729</td>\n",
              "    </tr>\n",
              "    <tr>\n",
              "      <th>2</th>\n",
              "      <td>XGB</td>\n",
              "      <td>0.264506</td>\n",
              "    </tr>\n",
              "    <tr>\n",
              "      <th>3</th>\n",
              "      <td>ANN</td>\n",
              "      <td>0.306545</td>\n",
              "    </tr>\n",
              "  </tbody>\n",
              "</table>\n",
              "</div>"
            ],
            "text/plain": [
              "          Model     Score\n",
              "0        Linear  0.281385\n",
              "1  Randomforest  0.285729\n",
              "2           XGB  0.264506\n",
              "3           ANN  0.306545"
            ]
          },
          "metadata": {
            "tags": []
          },
          "execution_count": 73
        }
      ]
    },
    {
      "cell_type": "code",
      "metadata": {
        "colab": {
          "base_uri": "https://localhost:8080/",
          "height": 262
        },
        "id": "rQdNk9_E7nz2",
        "outputId": "daa91f2b-1681-447b-f966-8ae36579265f"
      },
      "source": [
        "scores_df.plot(kind = \"bar\");"
      ],
      "execution_count": 74,
      "outputs": [
        {
          "output_type": "display_data",
          "data": {
            "image/png": "[encoded data removed]",
            "text/plain": [
              "<Figure size 432x288 with 1 Axes>"
            ]
          },
          "metadata": {
            "tags": [],
            "needs_background": "light"
          }
        }
      ]
    },
    {
      "cell_type": "markdown",
      "metadata": {
        "id": "OXb4mnK_6Ezw"
      },
      "source": [
        "## Hyperparameter tuning with `GridsearchCV`\n",
        "[GridSearchCV documentation](https://scikit-learn.org/stable/modules/generated/sklearn.model_selection.GridSearchCV.html)"
      ]
    },
    {
      "cell_type": "code",
      "metadata": {
        "colab": {
          "base_uri": "https://localhost:8080/"
        },
        "id": "wnW0BXG_6EF9",
        "outputId": "f3dc3835-5623-4f4d-d8a9-88720956c9a9"
      },
      "source": [
        "from sklearn.model_selection import GridSearchCV\n",
        "\n",
        "random_grid = {\"n_estimators\": [100, 150 , 200 , 250 , 300 , 350 , 400 , 500 , 600 , 650 , 700] , \n",
        "               \"max_depth\": [None] , \n",
        "               \"max_features\": [\"auto\", \"sqrt\"] , \n",
        "               \"min_samples_split\": [2] , \n",
        "               }\n",
        "\n",
        "random_gridsearch = GridSearchCV(estimator = random , param_grid = random_grid , cv=5 , verbose=2 , n_jobs = -1 , scoring = \"neg_mean_squared_log_error\")\n",
        "random_gridsearch.fit(X_train , y_train)"
      ],
      "execution_count": 75,
      "outputs": [
        {
          "output_type": "stream",
          "text": [
            "Fitting 5 folds for each of 22 candidates, totalling 110 fits\n"
          ],
          "name": "stdout"
        },
        {
          "output_type": "stream",
          "text": [
            "[Parallel(n_jobs=-1)]: Using backend LokyBackend with 2 concurrent workers.\n",
            "[Parallel(n_jobs=-1)]: Done  37 tasks      | elapsed:   17.8s\n",
            "[Parallel(n_jobs=-1)]: Done 110 out of 110 | elapsed:  1.1min finished\n"
          ],
          "name": "stderr"
        },
        {
          "output_type": "execute_result",
          "data": {
            "text/plain": [
              "GridSearchCV(cv=5, error_score=nan,\n",
              "             estimator=RandomForestRegressor(bootstrap=True, ccp_alpha=0.0,\n",
              "                                             criterion='mse', max_depth=None,\n",
              "                                             max_features='auto',\n",
              "                                             max_leaf_nodes=None,\n",
              "                                             max_samples=None,\n",
              "                                             min_impurity_decrease=0.0,\n",
              "                                             min_impurity_split=None,\n",
              "                                             min_samples_leaf=1,\n",
              "                                             min_samples_split=2,\n",
              "                                             min_weight_fraction_leaf=0.0,\n",
              "                                             n_estimators=100, n_jobs=None,\n",
              "                                             oob_score=False, random_state=42,\n",
              "                                             verbose=0, warm_start=False),\n",
              "             iid='deprecated', n_jobs=-1,\n",
              "             param_grid={'max_depth': [None], 'max_features': ['auto', 'sqrt'],\n",
              "                         'min_samples_split': [2],\n",
              "                         'n_estimators': [100, 150, 200, 250, 300, 350, 400,\n",
              "                                          500, 600, 650, 700]},\n",
              "             pre_dispatch='2*n_jobs', refit=True, return_train_score=False,\n",
              "             scoring='neg_mean_squared_log_error', verbose=2)"
            ]
          },
          "metadata": {
            "tags": []
          },
          "execution_count": 75
        }
      ]
    },
    {
      "cell_type": "code",
      "metadata": {
        "colab": {
          "base_uri": "https://localhost:8080/"
        },
        "id": "eh3GVJHk9xqe",
        "outputId": "2cd9557d-79b8-4dfd-c8cb-08a1ff6e41f6"
      },
      "source": [
        "random_gridsearch.best_params_"
      ],
      "execution_count": 76,
      "outputs": [
        {
          "output_type": "execute_result",
          "data": {
            "text/plain": [
              "{'max_depth': None,\n",
              " 'max_features': 'auto',\n",
              " 'min_samples_split': 2,\n",
              " 'n_estimators': 500}"
            ]
          },
          "metadata": {
            "tags": []
          },
          "execution_count": 76
        }
      ]
    },
    {
      "cell_type": "code",
      "metadata": {
        "colab": {
          "base_uri": "https://localhost:8080/"
        },
        "id": "7Vkgkk96dHZY",
        "outputId": "13f86d4e-1dcc-4ad9-833d-95ea2a9d7704"
      },
      "source": [
        "final = RandomForestRegressor(n_estimators = 600 , max_features=\"auto\" , min_samples_split=2 , max_depth=None , random_state = 4)\n",
        "final.fit(X_train , y_train)"
      ],
      "execution_count": 77,
      "outputs": [
        {
          "output_type": "execute_result",
          "data": {
            "text/plain": [
              "RandomForestRegressor(bootstrap=True, ccp_alpha=0.0, criterion='mse',\n",
              "                      max_depth=None, max_features='auto', max_leaf_nodes=None,\n",
              "                      max_samples=None, min_impurity_decrease=0.0,\n",
              "                      min_impurity_split=None, min_samples_leaf=1,\n",
              "                      min_samples_split=2, min_weight_fraction_leaf=0.0,\n",
              "                      n_estimators=600, n_jobs=None, oob_score=False,\n",
              "                      random_state=4, verbose=0, warm_start=False)"
            ]
          },
          "metadata": {
            "tags": []
          },
          "execution_count": 77
        }
      ]
    },
    {
      "cell_type": "code",
      "metadata": {
        "colab": {
          "base_uri": "https://localhost:8080/"
        },
        "id": "rDB-3HxQACcR",
        "outputId": "79910040-bbcd-44cc-a04a-51f7ecc81d0f"
      },
      "source": [
        "final.score(X_train , y_train)"
      ],
      "execution_count": 78,
      "outputs": [
        {
          "output_type": "execute_result",
          "data": {
            "text/plain": [
              "0.879882206638655"
            ]
          },
          "metadata": {
            "tags": []
          },
          "execution_count": 78
        }
      ]
    },
    {
      "cell_type": "code",
      "metadata": {
        "colab": {
          "base_uri": "https://localhost:8080/"
        },
        "id": "aJRqe0LBALOz",
        "outputId": "a3421ee2-468a-48c0-bc29-a9eeca8c8d1e"
      },
      "source": [
        "final.score(X_test , y_test)"
      ],
      "execution_count": 79,
      "outputs": [
        {
          "output_type": "execute_result",
          "data": {
            "text/plain": [
              "0.03050498922167211"
            ]
          },
          "metadata": {
            "tags": []
          },
          "execution_count": 79
        }
      ]
    },
    {
      "cell_type": "code",
      "metadata": {
        "colab": {
          "base_uri": "https://localhost:8080/"
        },
        "id": "-DUHi3JwAWOV",
        "outputId": "97e35252-9022-45f7-ca1a-102a67b4b930"
      },
      "source": [
        "final_preds = final.predict(X_test)\n",
        "final_preds"
      ],
      "execution_count": 80,
      "outputs": [
        {
          "output_type": "execute_result",
          "data": {
            "text/plain": [
              "array([17401.44333333, 20522.01333333, 12378.655     , 10046.05833333,\n",
              "       11221.02166667, 11489.435     , 11873.56833333, 10625.18833333,\n",
              "       15490.21      , 16303.85237526,  8310.38333333, 12615.75333333,\n",
              "        8068.20666667, 10104.475     , 14360.28166667, 19098.2       ,\n",
              "       16079.90666667,  7015.855     , 10557.17833333, 12178.14666667,\n",
              "       12742.65833333, 17731.50674321, 18559.16666667, 25862.12333333,\n",
              "        9640.48528908, 23608.99333333, 11925.33666667,  7615.20666667,\n",
              "       19582.14      , 17402.07      , 12621.55      , 15372.30333333,\n",
              "       10858.65333333, 10885.46477146, 28677.545     , 16205.08333333,\n",
              "       11526.21333333, 12794.16166667, 15089.79333333,  8280.99      ,\n",
              "       11889.945     , 18978.835     , 24021.11      , 18502.40333333,\n",
              "       14346.09228042, 12655.70166667, 14736.66166667,  8225.075     ,\n",
              "       17210.775     , 14084.5       , 11144.81833333, 19266.21666667,\n",
              "       16313.53333333,  6014.065     , 11533.5       , 11158.41805556,\n",
              "       15042.53232143, 11068.05666667, 18569.29489607, 13416.64166667,\n",
              "       13479.47166667, 23587.29984681,  9633.215     , 17174.18666667,\n",
              "       24351.32      , 24793.03833333, 10808.54833333, 22538.1       ,\n",
              "       18483.66333333, 19928.73833333, 14546.25333333, 20203.215     ,\n",
              "       16835.88166667, 16047.48125   , 12705.9375    ,  9240.95833333,\n",
              "        9218.89333333, 11637.66377225, 22740.58333333, 10342.845     ,\n",
              "       16553.91      , 12308.61666667, 12529.50705556, 13699.37666667,\n",
              "        9358.91833333, 13419.645     , 10000.51833333, 18018.455     ,\n",
              "       15897.57333333, 12621.55      , 18694.79788884, 10714.24      ,\n",
              "        9842.33833333,  9393.54333333, 19898.26166667])"
            ]
          },
          "metadata": {
            "tags": []
          },
          "execution_count": 80
        }
      ]
    },
    {
      "cell_type": "code",
      "metadata": {
        "colab": {
          "base_uri": "https://localhost:8080/",
          "height": 265
        },
        "id": "Sv0WmUfbAjKT",
        "outputId": "0850ccb5-a57a-462b-8975-8ec195151e4b"
      },
      "source": [
        "plt.scatter(y_test , final_preds)\n",
        "x = np.linspace(min(y_test),max(y_test),100)\n",
        "y = x\n",
        "plt.plot(x, y , \"-r\");"
      ],
      "execution_count": 81,
      "outputs": [
        {
          "output_type": "display_data",
          "data": {
            "image/png": "[encoded data removed]",
            "text/plain": [
              "<Figure size 432x288 with 1 Axes>"
            ]
          },
          "metadata": {
            "tags": [],
            "needs_background": "light"
          }
        }
      ]
    },
    {
      "cell_type": "code",
      "metadata": {
        "colab": {
          "base_uri": "https://localhost:8080/"
        },
        "id": "xoGhVXeLANlP",
        "outputId": "828c6d8d-82b3-4487-8291-289ab229b42a"
      },
      "source": [
        "final_score = sklearn.metrics.mean_squared_log_error(y_test , final_preds)\n",
        "final_score"
      ],
      "execution_count": 82,
      "outputs": [
        {
          "output_type": "execute_result",
          "data": {
            "text/plain": [
              "0.2848320012949365"
            ]
          },
          "metadata": {
            "tags": []
          },
          "execution_count": 82
        }
      ]
    },
    {
      "cell_type": "markdown",
      "metadata": {
        "id": "PIP4gXy9DDAF"
      },
      "source": [
        "## Saving the model with pickel module"
      ]
    },
    {
      "cell_type": "markdown",
      "metadata": {
        "id": "sDUbMcJlr_Qn"
      },
      "source": [
        "### Since out of all the model we choose XGB as it has less error"
      ]
    },
    {
      "cell_type": "code",
      "metadata": {
        "id": "BU7s4BUSAf7-"
      },
      "source": [
        "import pickle\n",
        "\n",
        "pickle.dump(xgb, open(\"xgb_1.pkl\", \"wb\"))"
      ],
      "execution_count": 83,
      "outputs": []
    },
    {
      "cell_type": "markdown",
      "metadata": {
        "id": "iVVASEiSEK24"
      },
      "source": [
        "### Loading the model"
      ]
    },
    {
      "cell_type": "code",
      "metadata": {
        "id": "IvysB_R-EIrg",
        "colab": {
          "base_uri": "https://localhost:8080/"
        },
        "outputId": "f9985e7f-388d-459d-f4eb-3d87d6cbd5db"
      },
      "source": [
        "loaded_pickle_model = pickle.load(open(\"xgb_1.pkl\", \"rb\"))"
      ],
      "execution_count": 84,
      "outputs": [
        {
          "output_type": "stream",
          "text": [
            "[17:36:06] WARNING: /workspace/src/objective/regression_obj.cu:152: reg:linear is now deprecated in favor of reg:squarederror.\n"
          ],
          "name": "stdout"
        }
      ]
    }
  ]
}